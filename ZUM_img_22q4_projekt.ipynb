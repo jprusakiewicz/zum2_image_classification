{
 "cells": [
  {
   "cell_type": "code",
   "execution_count": 1,
   "metadata": {},
   "outputs": [
    {
     "name": "stdout",
     "output_type": "stream",
     "text": [
      "Wed Dec 21 13:28:40 2022       \n",
      "+-----------------------------------------------------------------------------+\n",
      "| NVIDIA-SMI 515.43.04    Driver Version: 515.43.04    CUDA Version: 11.7     |\n",
      "|-------------------------------+----------------------+----------------------+\n",
      "| GPU  Name        Persistence-M| Bus-Id        Disp.A | Volatile Uncorr. ECC |\n",
      "| Fan  Temp  Perf  Pwr:Usage/Cap|         Memory-Usage | GPU-Util  Compute M. |\n",
      "|                               |                      |               MIG M. |\n",
      "|===============================+======================+======================|\n",
      "|   0  NVIDIA GeForce ...  On   | 00000000:01:00.0  On |                  N/A |\n",
      "| 45%   29C    P8    N/A /  75W |    480MiB /  4096MiB |     27%      Default |\n",
      "|                               |                      |                  N/A |\n",
      "+-------------------------------+----------------------+----------------------+\n",
      "                                                                               \n",
      "+-----------------------------------------------------------------------------+\n",
      "| Processes:                                                                  |\n",
      "|  GPU   GI   CI        PID   Type   Process name                  GPU Memory |\n",
      "|        ID   ID                                                   Usage      |\n",
      "|=============================================================================|\n",
      "|    0   N/A  N/A      1146      G   /usr/lib/xorg/Xorg                 35MiB |\n",
      "|    0   N/A  N/A      2150      G   /usr/lib/xorg/Xorg                176MiB |\n",
      "|    0   N/A  N/A      2284      G   /usr/bin/gnome-shell               36MiB |\n",
      "|    0   N/A  N/A     11647      G   /usr/lib/firefox/firefox          145MiB |\n",
      "|    0   N/A  N/A     18456      G   ...560782976187077653,131072       17MiB |\n",
      "|    0   N/A  N/A     23178      G   ...AAAAAAAAA= --shared-files       56MiB |\n",
      "+-----------------------------------------------------------------------------+\n"
     ]
    }
   ],
   "source": [
    "!nvidia-smi"
   ]
  },
  {
   "cell_type": "code",
   "execution_count": 2,
   "metadata": {},
   "outputs": [],
   "source": [
    "import os\n",
    "os.environ['TF_FORCE_GPU_ALLOW_GROWTH'] = 'true'"
   ]
  },
  {
   "cell_type": "code",
   "execution_count": 3,
   "metadata": {},
   "outputs": [],
   "source": [
    "import tensorflow as tf\n",
    "\n",
    "gpu_options = tf.compat.v1.GPUOptions(allow_growth=True)\n",
    "session = tf.compat.v1.InteractiveSession(config=tf.compat.v1.ConfigProto(gpu_options=gpu_options))"
   ]
  },
  {
   "cell_type": "markdown",
   "metadata": {
    "id": "IImW6xGnwobW"
   },
   "source": [
    "# Obraz - transfer learning - praca domowa\n",
    "Ostatnia aktualizacja: 2022.12.10\n",
    "\n",
    "Z dokumentacji [Keras](https://keras.io/guides/transfer_learning/): *Transfer learning consists of taking features learned on one problem, and leveraging them on a new, similar problem.*\n",
    "\n",
    "Głównym celem pracy domowej jest stworzenie klasyfikatora, który będzie odróżniał zdjęcia obiektów w wybranym przez nas zbiorze. Użyjemy do tego jednego z [gotowych modeli Keras](https://keras.io/api/applications/), wytrenowanego wcześniej na zbiorze Imagenet. \n",
    "\n",
    "Przydatne źródła:\n",
    "- [transfer learning vgg16 + tf_flowers](https://towardsdatascience.com/transfer-learning-with-vgg16-and-keras-50ea161580b4)\n",
    "- [Keras - transfer learning](https://keras.io/guides/transfer_learning/)"
   ]
  },
  {
   "cell_type": "markdown",
   "metadata": {
    "id": "B_VaMT6Ixv2P"
   },
   "source": [
    "### Wybrany zbiór danych:\n",
    "\n",
    "- [znaki drogowe](https://www.kaggle.com/datasets/valentynsichkar/traffic-signs-1-million-images-for-classification). \n"
   ]
  },
  {
   "cell_type": "code",
   "execution_count": 4,
   "metadata": {},
   "outputs": [],
   "source": [
    "import h5py\n",
    "filename = \"dataset_ts_original.hdf5\"\n",
    "\n",
    "with h5py.File(filename, \"r\") as f:\n",
    "    x_test = f['x_test'][()]\n",
    "    x_train = f['x_train'][()]\n",
    "    y_test = f['y_test'][()]\n",
    "    y_train = f['y_train'][()]\n",
    "    x_validation = f['x_validation'][()]\n",
    "    y_validation = f['y_validation'][()]"
   ]
  },
  {
   "cell_type": "markdown",
   "metadata": {
    "id": "LgWoGVFJ2BA5"
   },
   "source": [
    "### Zadanie 1: Wytrenuj model na swoich danych ###\n",
    "**(Zadanie na ocenę 3)**\n",
    "\n",
    "Wytrenuj wybrany model na swoich danych. Omów eksperyment i wyniki (100 słów). "
   ]
  },
  {
   "cell_type": "code",
   "execution_count": 5,
   "metadata": {},
   "outputs": [
    {
     "name": "stdout",
     "output_type": "stream",
     "text": [
      "(3111, 48, 48, 3)\n",
      "(36288, 48, 48, 3)\n",
      "(12440, 48, 48, 3)\n"
     ]
    }
   ],
   "source": [
    "assert x_test.shape[1:] == x_train.shape[1:] == x_validation.shape[1:]\n",
    "print(x_test.shape)\n",
    "print(x_train.shape)\n",
    "print(x_validation.shape)"
   ]
  },
  {
   "cell_type": "code",
   "execution_count": 6,
   "metadata": {},
   "outputs": [],
   "source": [
    "# x_validation_resized = tf.image.resize(x_validation[:300], (150, 150)).numpy()\n",
    "# x_test_resized = tf.image.resize(x_test[:50], (150, 150)).numpy()\n",
    "# x_train_resized = tf.image.resize(x_train[:1500], (150, 150)).numpy()"
   ]
  },
  {
   "cell_type": "code",
   "execution_count": 7,
   "metadata": {},
   "outputs": [
    {
     "data": {
      "text/plain": [
       "(48, 48, 3)"
      ]
     },
     "execution_count": 7,
     "metadata": {},
     "output_type": "execute_result"
    }
   ],
   "source": [
    "x_train[0].shape"
   ]
  },
  {
   "cell_type": "markdown",
   "metadata": {
    "id": "BAo9-ecevKWT"
   },
   "source": [
    "### Wczytaj wytrenowany model do klasyfikacji obrazu. ###\n",
    "Może to być jeden z gotowych [modeli dostępnych w Keras](https://keras.io/api/applications/). Wczytujemy go z wytrenowanymi już wcześniej wagami na Imagenecie (weights='imagenet'). \n",
    "\n",
    "Model możemy wczytać bez ostatnich warstw (include_top=False) i dodać je potem ręcznie, dostosowane do liczby klas w naszym zbiorze. Imagenet ma 1000 klas, my prawdopodobnie będziemy mieć ich mniej. \n",
    "\n",
    "Pamiętaj, żeby wyłączyć lub ograniczyć trening części modelu z wytrenowanymi już wagami (trainable=False). "
   ]
  },
  {
   "cell_type": "code",
   "execution_count": 8,
   "metadata": {
    "id": "IccXldfvxvYH"
   },
   "outputs": [],
   "source": [
    "import numpy as np\n",
    "import tensorflow as tf\n",
    "from tensorflow import keras"
   ]
  },
  {
   "cell_type": "code",
   "execution_count": 9,
   "metadata": {},
   "outputs": [],
   "source": [
    "from tensorflow.keras.applications.vgg16 import VGG16, preprocess_input\n",
    "from tensorflow.keras.preprocessing import image\n",
    "import numpy as np\n",
    "\n",
    "base_model = VGG16(weights='imagenet', include_top=False, input_shape=x_train[0].shape)\n",
    "base_model.trainable = False\n"
   ]
  },
  {
   "cell_type": "code",
   "execution_count": 10,
   "metadata": {},
   "outputs": [],
   "source": [
    "from tensorflow.keras import layers, models\n",
    "\n",
    "flatten_layer = layers.Flatten()\n",
    "dense_layer_1 = layers.Dense(150, activation='relu')\n",
    "prediction_layer = layers.Dense(43, activation='softmax')\n",
    "\n",
    "\n",
    "model = models.Sequential([\n",
    "    base_model,\n",
    "    flatten_layer,\n",
    "    dense_layer_1,\n",
    "    prediction_layer\n",
    "])"
   ]
  },
  {
   "cell_type": "code",
   "execution_count": 11,
   "metadata": {},
   "outputs": [
    {
     "name": "stdout",
     "output_type": "stream",
     "text": [
      "Model: \"sequential\"\n",
      "_________________________________________________________________\n",
      " Layer (type)                Output Shape              Param #   \n",
      "=================================================================\n",
      " vgg16 (Functional)          (None, 1, 1, 512)         14714688  \n",
      "                                                                 \n",
      " flatten (Flatten)           (None, 512)               0         \n",
      "                                                                 \n",
      " dense (Dense)               (None, 150)               76950     \n",
      "                                                                 \n",
      " dense_1 (Dense)             (None, 43)                6493      \n",
      "                                                                 \n",
      "=================================================================\n",
      "Total params: 14,798,131\n",
      "Trainable params: 83,443\n",
      "Non-trainable params: 14,714,688\n",
      "_________________________________________________________________\n"
     ]
    }
   ],
   "source": [
    "model.summary()"
   ]
  },
  {
   "cell_type": "code",
   "execution_count": 12,
   "metadata": {},
   "outputs": [
    {
     "data": {
      "text/plain": [
       "(36288,)"
      ]
     },
     "execution_count": 12,
     "metadata": {},
     "output_type": "execute_result"
    }
   ],
   "source": [
    "y_train.shape"
   ]
  },
  {
   "cell_type": "code",
   "execution_count": 13,
   "metadata": {},
   "outputs": [
    {
     "name": "stdout",
     "output_type": "stream",
     "text": [
      "Requirement already satisfied: pandas in /home/kuba/.local/lib/python3.8/site-packages (1.5.2)\r\n",
      "Requirement already satisfied: numpy>=1.20.3 in /home/kuba/.local/lib/python3.8/site-packages (from pandas) (1.22.4)\r\n",
      "Requirement already satisfied: pytz>=2020.1 in /home/kuba/.local/lib/python3.8/site-packages (from pandas) (2022.7)\r\n",
      "Requirement already satisfied: python-dateutil>=2.8.1 in /home/kuba/.local/lib/python3.8/site-packages (from pandas) (2.8.2)\r\n",
      "Requirement already satisfied: six>=1.5 in /home/kuba/miniconda3/lib/python3.8/site-packages (from python-dateutil>=2.8.1->pandas) (1.16.0)\r\n"
     ]
    }
   ],
   "source": [
    "!pip install pandas"
   ]
  },
  {
   "cell_type": "code",
   "execution_count": 14,
   "metadata": {},
   "outputs": [],
   "source": [
    "import pandas as pd\n",
    "y_train = pd.get_dummies(y_train)"
   ]
  },
  {
   "cell_type": "code",
   "execution_count": 15,
   "metadata": {},
   "outputs": [
    {
     "name": "stdout",
     "output_type": "stream",
     "text": [
      "Epoch 1/50\n",
      "908/908 [==============================] - 41s 40ms/step - loss: 2.0640 - accuracy: 0.6008 - val_loss: 1.0568 - val_accuracy: 0.7152\n",
      "Epoch 2/50\n",
      "908/908 [==============================] - 35s 39ms/step - loss: 0.7532 - accuracy: 0.7740 - val_loss: 0.7749 - val_accuracy: 0.7852\n",
      "Epoch 3/50\n",
      "908/908 [==============================] - 35s 39ms/step - loss: 0.5510 - accuracy: 0.8295 - val_loss: 0.7730 - val_accuracy: 0.7834\n",
      "Epoch 4/50\n",
      "908/908 [==============================] - 35s 39ms/step - loss: 0.4541 - accuracy: 0.8551 - val_loss: 0.6933 - val_accuracy: 0.8143\n",
      "Epoch 5/50\n",
      "908/908 [==============================] - 35s 39ms/step - loss: 0.3894 - accuracy: 0.8763 - val_loss: 0.6481 - val_accuracy: 0.8330\n",
      "Epoch 6/50\n",
      "908/908 [==============================] - 35s 39ms/step - loss: 0.3391 - accuracy: 0.8892 - val_loss: 0.6649 - val_accuracy: 0.8325\n",
      "Epoch 7/50\n",
      "908/908 [==============================] - 35s 39ms/step - loss: 0.3023 - accuracy: 0.9006 - val_loss: 0.6673 - val_accuracy: 0.8418\n",
      "Epoch 8/50\n",
      "908/908 [==============================] - 35s 39ms/step - loss: 0.2740 - accuracy: 0.9114 - val_loss: 0.6449 - val_accuracy: 0.8455\n",
      "Epoch 9/50\n",
      "908/908 [==============================] - 35s 39ms/step - loss: 0.2414 - accuracy: 0.9219 - val_loss: 0.6529 - val_accuracy: 0.8541\n",
      "Epoch 10/50\n",
      "908/908 [==============================] - 35s 39ms/step - loss: 0.2299 - accuracy: 0.9261 - val_loss: 0.6665 - val_accuracy: 0.8563\n",
      "Epoch 11/50\n",
      "908/908 [==============================] - 35s 39ms/step - loss: 0.2144 - accuracy: 0.9311 - val_loss: 0.7492 - val_accuracy: 0.8538\n",
      "Epoch 12/50\n",
      "908/908 [==============================] - 36s 40ms/step - loss: 0.1930 - accuracy: 0.9385 - val_loss: 0.7461 - val_accuracy: 0.8494\n",
      "Epoch 13/50\n",
      "908/908 [==============================] - 36s 40ms/step - loss: 0.1832 - accuracy: 0.9402 - val_loss: 0.7188 - val_accuracy: 0.8637\n",
      "Epoch 14/50\n",
      "908/908 [==============================] - 37s 40ms/step - loss: 0.1700 - accuracy: 0.9447 - val_loss: 0.7583 - val_accuracy: 0.8607\n",
      "Epoch 15/50\n",
      "908/908 [==============================] - 35s 39ms/step - loss: 0.1636 - accuracy: 0.9467 - val_loss: 0.8359 - val_accuracy: 0.8495\n",
      "Epoch 16/50\n",
      "908/908 [==============================] - 36s 40ms/step - loss: 0.1527 - accuracy: 0.9498 - val_loss: 0.8321 - val_accuracy: 0.8541\n",
      "Epoch 17/50\n",
      "908/908 [==============================] - 36s 39ms/step - loss: 0.1481 - accuracy: 0.9530 - val_loss: 0.8617 - val_accuracy: 0.8573\n",
      "Epoch 18/50\n",
      "908/908 [==============================] - 36s 40ms/step - loss: 0.1388 - accuracy: 0.9562 - val_loss: 0.9146 - val_accuracy: 0.8582\n"
     ]
    },
    {
     "data": {
      "text/plain": [
       "<keras.callbacks.History at 0x7f67873fe9a0>"
      ]
     },
     "execution_count": 15,
     "metadata": {},
     "output_type": "execute_result"
    }
   ],
   "source": [
    "from tensorflow.keras.callbacks import EarlyStopping\n",
    "\n",
    "model.compile(\n",
    "    optimizer='adam',\n",
    "    loss='categorical_crossentropy',\n",
    "    metrics=['accuracy']\n",
    ")\n",
    "\n",
    "\n",
    "es = EarlyStopping(monitor='val_accuracy', mode='max', patience=5,  restore_best_weights=True)\n",
    "\n",
    "model.fit(x_train, y_train, epochs=50, validation_split=0.2, batch_size=32, callbacks=[es])"
   ]
  },
  {
   "cell_type": "code",
   "execution_count": 19,
   "metadata": {},
   "outputs": [
    {
     "name": "stdout",
     "output_type": "stream",
     "text": [
      "1/1 [==============================] - 0s 23ms/step\n"
     ]
    },
    {
     "data": {
      "text/plain": [
       "array([[0.0000000e+00, 3.4126278e-36, 2.4456801e-34, 0.0000000e+00,\n",
       "        0.0000000e+00, 0.0000000e+00, 0.0000000e+00, 1.3031604e-32,\n",
       "        0.0000000e+00, 0.0000000e+00, 0.0000000e+00, 0.0000000e+00,\n",
       "        1.0000000e+00, 7.4905679e-31, 0.0000000e+00, 0.0000000e+00,\n",
       "        0.0000000e+00, 0.0000000e+00, 0.0000000e+00, 0.0000000e+00,\n",
       "        0.0000000e+00, 0.0000000e+00, 1.0549303e-37, 0.0000000e+00,\n",
       "        6.7797821e-36, 0.0000000e+00, 0.0000000e+00, 0.0000000e+00,\n",
       "        0.0000000e+00, 0.0000000e+00, 0.0000000e+00, 0.0000000e+00,\n",
       "        0.0000000e+00, 0.0000000e+00, 0.0000000e+00, 0.0000000e+00,\n",
       "        4.5613204e-38, 0.0000000e+00, 7.4406331e-34, 0.0000000e+00,\n",
       "        0.0000000e+00, 7.9408963e-36, 0.0000000e+00],\n",
       "       [4.1512739e-12, 6.6080820e-06, 7.8983510e-07, 1.5811435e-06,\n",
       "        1.3831764e-05, 3.1484937e-08, 3.7811067e-11, 2.5975558e-10,\n",
       "        3.4432971e-06, 2.7480095e-08, 1.0203946e-10, 5.3578051e-04,\n",
       "        9.3616372e-06, 3.6711779e-06, 2.4849458e-08, 2.5991131e-09,\n",
       "        2.7941237e-06, 2.9742338e-07, 4.2466547e-02, 2.8280127e-09,\n",
       "        1.5974403e-05, 3.7102326e-04, 1.7806007e-05, 2.6954850e-02,\n",
       "        9.2621642e-01, 3.2660561e-03, 4.1740557e-05, 5.0302756e-10,\n",
       "        1.9206093e-06, 5.1929700e-08, 2.1142536e-05, 2.2974058e-08,\n",
       "        1.0886535e-07, 6.0515418e-08, 3.7845447e-09, 4.5002225e-06,\n",
       "        2.9000693e-08, 4.1395277e-05, 1.9380648e-06, 3.2234115e-11,\n",
       "        4.6470432e-12, 1.4597082e-07, 1.0902576e-11]], dtype=float32)"
      ]
     },
     "execution_count": 19,
     "metadata": {},
     "output_type": "execute_result"
    }
   ],
   "source": [
    "model.predict(x_train[:2])"
   ]
  },
  {
   "cell_type": "markdown",
   "metadata": {
    "id": "t-jcAR_Y3mwN"
   },
   "source": [
    "*TODO: omówienie (100 słów)*"
   ]
  },
  {
   "cell_type": "markdown",
   "metadata": {
    "id": "ceCsNpA42H7Z"
   },
   "source": [
    "omówienie will be here..."
   ]
  },
  {
   "cell_type": "markdown",
   "metadata": {
    "id": "YMwQtLDyyBIn"
   },
   "source": [
    "### Zadanie 2: Dodatkowe sieci ###\n",
    "**(Zadanie na ocenę 4, po wykonaniu  zadania 1)**\n",
    "\n",
    "Przeprowadź to samo na dwóch dodatkowych sieciach i omów wyniki (100 słów). \n",
    "\n",
    "Czyli jeśli w zadaniu 1 użyliśmy np. VGG to teraz wybieramy sobie np. ResNet i MobileNet. "
   ]
  },
  {
   "cell_type": "code",
   "execution_count": null,
   "metadata": {
    "id": "XaTwND6n26Fe"
   },
   "outputs": [],
   "source": []
  },
  {
   "cell_type": "markdown",
   "metadata": {
    "id": "68eGKyM132xk"
   },
   "source": [
    "*TODO: omówienie (100 słów)*"
   ]
  },
  {
   "cell_type": "markdown",
   "metadata": {
    "id": "-YbAVdOX2yL_"
   },
   "source": [
    "### Zadanie 3: Trening od zera i porównanie ###\n",
    "**(Zadanie na ocenę 5, po wykonaniu zadania 1 i 2)**\n",
    "\n",
    "Spróbuj skonstruować swój własny model i wytrenować go 'od zera' na tych samych danych. Porównaj i omów swój ekeperyment i wyniki (100 słów)."
   ]
  },
  {
   "cell_type": "markdown",
   "metadata": {},
   "source": [
    "reference: https://keras.io/api/applications/#usage-examples-for-image-classification-models"
   ]
  },
  {
   "cell_type": "code",
   "execution_count": null,
   "metadata": {
    "id": "lXGDTBURyAS4"
   },
   "outputs": [],
   "source": []
  },
  {
   "cell_type": "markdown",
   "metadata": {
    "id": "v9J2omGo34Hz"
   },
   "source": [
    "*TODO: omówienie (100 słów)*"
   ]
  },
  {
   "cell_type": "markdown",
   "metadata": {
    "id": "Eh2TKe3VE5iq"
   },
   "source": [
    "To wszystko, dziękuję. Wypełniony notatnik zapisz jako .ipynb i oddaj w Teams. "
   ]
  }
 ],
 "metadata": {
  "accelerator": "GPU",
  "colab": {
   "provenance": [],
   "toc_visible": true
  },
  "kernelspec": {
   "display_name": "Python 3",
   "language": "python",
   "name": "python3"
  },
  "language_info": {
   "codemirror_mode": {
    "name": "ipython",
    "version": 3
   },
   "file_extension": ".py",
   "mimetype": "text/x-python",
   "name": "python",
   "nbconvert_exporter": "python",
   "pygments_lexer": "ipython3",
   "version": "3.8.10"
  }
 },
 "nbformat": 4,
 "nbformat_minor": 1
}
