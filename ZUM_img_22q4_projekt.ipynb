{
 "cells": [
  {
   "cell_type": "code",
   "execution_count": 1,
   "metadata": {},
   "outputs": [
    {
     "name": "stdout",
     "output_type": "stream",
     "text": [
      "Fri Dec 23 23:24:11 2022       \n",
      "+-----------------------------------------------------------------------------+\n",
      "| NVIDIA-SMI 515.43.04    Driver Version: 515.43.04    CUDA Version: 11.7     |\n",
      "|-------------------------------+----------------------+----------------------+\n",
      "| GPU  Name        Persistence-M| Bus-Id        Disp.A | Volatile Uncorr. ECC |\n",
      "| Fan  Temp  Perf  Pwr:Usage/Cap|         Memory-Usage | GPU-Util  Compute M. |\n",
      "|                               |                      |               MIG M. |\n",
      "|===============================+======================+======================|\n",
      "|   0  NVIDIA GeForce ...  On   | 00000000:01:00.0  On |                  N/A |\n",
      "| 45%   30C    P8    N/A /  75W |    469MiB /  4096MiB |     17%      Default |\n",
      "|                               |                      |                  N/A |\n",
      "+-------------------------------+----------------------+----------------------+\n",
      "                                                                               \n",
      "+-----------------------------------------------------------------------------+\n",
      "| Processes:                                                                  |\n",
      "|  GPU   GI   CI        PID   Type   Process name                  GPU Memory |\n",
      "|        ID   ID                                                   Usage      |\n",
      "|=============================================================================|\n",
      "|    0   N/A  N/A      1142      G   /usr/lib/xorg/Xorg                 35MiB |\n",
      "|    0   N/A  N/A     72352      G   /usr/lib/xorg/Xorg                165MiB |\n",
      "|    0   N/A  N/A     72483      G   /usr/bin/gnome-shell               41MiB |\n",
      "|    0   N/A  N/A     72958      G   ...AAAAAAAAA= --shared-files       57MiB |\n",
      "|    0   N/A  N/A     77761      G   /usr/lib/firefox/firefox          133MiB |\n",
      "|    0   N/A  N/A     87837      G   gnome-control-center                1MiB |\n",
      "|    0   N/A  N/A     93339      G   ...526599576985143180,131072       22MiB |\n",
      "+-----------------------------------------------------------------------------+\n"
     ]
    }
   ],
   "source": [
    "!nvidia-smi"
   ]
  },
  {
   "cell_type": "code",
   "execution_count": 2,
   "metadata": {},
   "outputs": [],
   "source": [
    "import os\n",
    "os.environ['TF_FORCE_GPU_ALLOW_GROWTH'] = 'true'"
   ]
  },
  {
   "cell_type": "code",
   "execution_count": 3,
   "metadata": {},
   "outputs": [],
   "source": [
    "import tensorflow as tf\n",
    "\n",
    "gpu_options = tf.compat.v1.GPUOptions(allow_growth=True)\n",
    "session = tf.compat.v1.InteractiveSession(config=tf.compat.v1.ConfigProto(gpu_options=gpu_options))"
   ]
  },
  {
   "cell_type": "markdown",
   "metadata": {
    "id": "IImW6xGnwobW"
   },
   "source": [
    "# Obraz - transfer learning - praca domowa\n",
    "Ostatnia aktualizacja: 2022.12.10\n",
    "\n",
    "Z dokumentacji [Keras](https://keras.io/guides/transfer_learning/): *Transfer learning consists of taking features learned on one problem, and leveraging them on a new, similar problem.*\n",
    "\n",
    "Głównym celem pracy domowej jest stworzenie klasyfikatora, który będzie odróżniał zdjęcia obiektów w wybranym przez nas zbiorze. Użyjemy do tego jednego z [gotowych modeli Keras](https://keras.io/api/applications/), wytrenowanego wcześniej na zbiorze Imagenet. \n",
    "\n",
    "Przydatne źródła:\n",
    "- [transfer learning vgg16 + tf_flowers](https://towardsdatascience.com/transfer-learning-with-vgg16-and-keras-50ea161580b4)\n",
    "- [Keras - transfer learning](https://keras.io/guides/transfer_learning/)"
   ]
  },
  {
   "cell_type": "markdown",
   "metadata": {
    "id": "B_VaMT6Ixv2P"
   },
   "source": [
    "### Wybrany zbiór danych:\n",
    "\n",
    "- [znaki drogowe](https://www.kaggle.com/datasets/valentynsichkar/traffic-signs-1-million-images-for-classification). \n"
   ]
  },
  {
   "cell_type": "code",
   "execution_count": 2,
   "metadata": {},
   "outputs": [],
   "source": [
    "import h5py\n",
    "filename = \"dataset_ts_original.hdf5\"\n",
    "\n",
    "with h5py.File(filename, \"r\") as f:\n",
    "    \n",
    "    x_test = f['x_test'][()]\n",
    "    x_train = f['x_train'][()]\n",
    "    y_test = f['y_test'][()]\n",
    "    y_train = f['y_train'][()]\n",
    "    x_validation = f['x_validation'][()]\n",
    "    y_validation = f['y_validation'][()]"
   ]
  },
  {
   "cell_type": "markdown",
   "metadata": {
    "id": "LgWoGVFJ2BA5"
   },
   "source": [
    "### Zadanie 1: Wytrenuj model na swoich danych ###\n",
    "**(Zadanie na ocenę 3)**\n",
    "\n",
    "Wytrenuj wybrany model na swoich danych. Omów eksperyment i wyniki (100 słów). "
   ]
  },
  {
   "cell_type": "code",
   "execution_count": 15,
   "metadata": {},
   "outputs": [
    {
     "name": "stdout",
     "output_type": "stream",
     "text": [
      "(3111, 48, 48, 3)\n",
      "(36288, 48, 48, 3)\n",
      "(12440, 48, 48, 3)\n"
     ]
    }
   ],
   "source": [
    "assert x_test.shape[1:] == x_train.shape[1:] == x_validation.shape[1:]\n",
    "print(x_test.shape)\n",
    "print(x_train.shape)\n",
    "print(x_validation.shape)"
   ]
  },
  {
   "cell_type": "code",
   "execution_count": 6,
   "metadata": {},
   "outputs": [],
   "source": [
    "# x_validation_resized = tf.image.resize(x_validation[:300], (150, 150)).numpy()\n",
    "# x_test_resized = tf.image.resize(x_test[:50], (150, 150)).numpy()\n",
    "# x_train_resized = tf.image.resize(x_train[:1500], (150, 150)).numpy()"
   ]
  },
  {
   "cell_type": "code",
   "execution_count": 7,
   "metadata": {},
   "outputs": [
    {
     "data": {
      "text/plain": [
       "(48, 48, 3)"
      ]
     },
     "execution_count": 7,
     "metadata": {},
     "output_type": "execute_result"
    }
   ],
   "source": [
    "x_train[0].shape"
   ]
  },
  {
   "cell_type": "markdown",
   "metadata": {
    "id": "BAo9-ecevKWT"
   },
   "source": [
    "### Wczytaj wytrenowany model do klasyfikacji obrazu. ###\n",
    "Może to być jeden z gotowych [modeli dostępnych w Keras](https://keras.io/api/applications/). Wczytujemy go z wytrenowanymi już wcześniej wagami na Imagenecie (weights='imagenet'). \n",
    "\n",
    "Model możemy wczytać bez ostatnich warstw (include_top=False) i dodać je potem ręcznie, dostosowane do liczby klas w naszym zbiorze. Imagenet ma 1000 klas, my prawdopodobnie będziemy mieć ich mniej. \n",
    "\n",
    "Pamiętaj, żeby wyłączyć lub ograniczyć trening części modelu z wytrenowanymi już wagami (trainable=False). "
   ]
  },
  {
   "cell_type": "code",
   "execution_count": 8,
   "metadata": {
    "id": "IccXldfvxvYH"
   },
   "outputs": [],
   "source": [
    "import numpy as np\n",
    "import tensorflow as tf\n",
    "from tensorflow import keras"
   ]
  },
  {
   "cell_type": "code",
   "execution_count": 9,
   "metadata": {},
   "outputs": [],
   "source": [
    "from tensorflow.keras.applications.vgg16 import VGG16, preprocess_input\n",
    "from tensorflow.keras.preprocessing import image\n",
    "import numpy as np\n",
    "\n",
    "base_model = VGG16(weights='imagenet', include_top=False, input_shape=x_train[0].shape)\n",
    "base_model.trainable = False\n"
   ]
  },
  {
   "cell_type": "code",
   "execution_count": 10,
   "metadata": {},
   "outputs": [],
   "source": [
    "from tensorflow.keras import layers, models\n",
    "\n",
    "flatten_layer = layers.Flatten()\n",
    "dense_layer_1 = layers.Dense(150, activation='relu')\n",
    "prediction_layer = layers.Dense(43, activation='softmax')\n",
    "\n",
    "\n",
    "model = models.Sequential([\n",
    "    base_model,\n",
    "    flatten_layer,\n",
    "    dense_layer_1,\n",
    "    prediction_layer\n",
    "])"
   ]
  },
  {
   "cell_type": "code",
   "execution_count": 11,
   "metadata": {},
   "outputs": [
    {
     "name": "stdout",
     "output_type": "stream",
     "text": [
      "Model: \"sequential\"\n",
      "_________________________________________________________________\n",
      " Layer (type)                Output Shape              Param #   \n",
      "=================================================================\n",
      " vgg16 (Functional)          (None, 1, 1, 512)         14714688  \n",
      "                                                                 \n",
      " flatten (Flatten)           (None, 512)               0         \n",
      "                                                                 \n",
      " dense (Dense)               (None, 150)               76950     \n",
      "                                                                 \n",
      " dense_1 (Dense)             (None, 43)                6493      \n",
      "                                                                 \n",
      "=================================================================\n",
      "Total params: 14,798,131\n",
      "Trainable params: 83,443\n",
      "Non-trainable params: 14,714,688\n",
      "_________________________________________________________________\n"
     ]
    }
   ],
   "source": [
    "model.summary()"
   ]
  },
  {
   "cell_type": "code",
   "execution_count": 12,
   "metadata": {},
   "outputs": [
    {
     "data": {
      "text/plain": [
       "(36288,)"
      ]
     },
     "execution_count": 12,
     "metadata": {},
     "output_type": "execute_result"
    }
   ],
   "source": [
    "y_train.shape"
   ]
  },
  {
   "cell_type": "code",
   "execution_count": 13,
   "metadata": {},
   "outputs": [
    {
     "name": "stdout",
     "output_type": "stream",
     "text": [
      "Requirement already satisfied: pandas in /home/kuba/.local/lib/python3.8/site-packages (1.5.2)\r\n",
      "Requirement already satisfied: numpy>=1.20.3 in /home/kuba/.local/lib/python3.8/site-packages (from pandas) (1.22.4)\r\n",
      "Requirement already satisfied: pytz>=2020.1 in /home/kuba/.local/lib/python3.8/site-packages (from pandas) (2022.7)\r\n",
      "Requirement already satisfied: python-dateutil>=2.8.1 in /home/kuba/.local/lib/python3.8/site-packages (from pandas) (2.8.2)\r\n",
      "Requirement already satisfied: six>=1.5 in /home/kuba/miniconda3/lib/python3.8/site-packages (from python-dateutil>=2.8.1->pandas) (1.16.0)\r\n"
     ]
    }
   ],
   "source": [
    "!pip install pandas"
   ]
  },
  {
   "cell_type": "code",
   "execution_count": 82,
   "metadata": {},
   "outputs": [],
   "source": [
    "import pandas as pd\n",
    "y_train = pd.get_dummies(y_train)\n",
    "y_validation = pd.get_dummies(y_validation)"
   ]
  },
  {
   "cell_type": "code",
   "execution_count": 15,
   "metadata": {},
   "outputs": [
    {
     "name": "stdout",
     "output_type": "stream",
     "text": [
      "Epoch 1/50\n",
      "908/908 [==============================] - 41s 40ms/step - loss: 2.0640 - accuracy: 0.6008 - val_loss: 1.0568 - val_accuracy: 0.7152\n",
      "Epoch 2/50\n",
      "908/908 [==============================] - 35s 39ms/step - loss: 0.7532 - accuracy: 0.7740 - val_loss: 0.7749 - val_accuracy: 0.7852\n",
      "Epoch 3/50\n",
      "908/908 [==============================] - 35s 39ms/step - loss: 0.5510 - accuracy: 0.8295 - val_loss: 0.7730 - val_accuracy: 0.7834\n",
      "Epoch 4/50\n",
      "908/908 [==============================] - 35s 39ms/step - loss: 0.4541 - accuracy: 0.8551 - val_loss: 0.6933 - val_accuracy: 0.8143\n",
      "Epoch 5/50\n",
      "908/908 [==============================] - 35s 39ms/step - loss: 0.3894 - accuracy: 0.8763 - val_loss: 0.6481 - val_accuracy: 0.8330\n",
      "Epoch 6/50\n",
      "908/908 [==============================] - 35s 39ms/step - loss: 0.3391 - accuracy: 0.8892 - val_loss: 0.6649 - val_accuracy: 0.8325\n",
      "Epoch 7/50\n",
      "908/908 [==============================] - 35s 39ms/step - loss: 0.3023 - accuracy: 0.9006 - val_loss: 0.6673 - val_accuracy: 0.8418\n",
      "Epoch 8/50\n",
      "908/908 [==============================] - 35s 39ms/step - loss: 0.2740 - accuracy: 0.9114 - val_loss: 0.6449 - val_accuracy: 0.8455\n",
      "Epoch 9/50\n",
      "908/908 [==============================] - 35s 39ms/step - loss: 0.2414 - accuracy: 0.9219 - val_loss: 0.6529 - val_accuracy: 0.8541\n",
      "Epoch 10/50\n",
      "908/908 [==============================] - 35s 39ms/step - loss: 0.2299 - accuracy: 0.9261 - val_loss: 0.6665 - val_accuracy: 0.8563\n",
      "Epoch 11/50\n",
      "908/908 [==============================] - 35s 39ms/step - loss: 0.2144 - accuracy: 0.9311 - val_loss: 0.7492 - val_accuracy: 0.8538\n",
      "Epoch 12/50\n",
      "908/908 [==============================] - 36s 40ms/step - loss: 0.1930 - accuracy: 0.9385 - val_loss: 0.7461 - val_accuracy: 0.8494\n",
      "Epoch 13/50\n",
      "908/908 [==============================] - 36s 40ms/step - loss: 0.1832 - accuracy: 0.9402 - val_loss: 0.7188 - val_accuracy: 0.8637\n",
      "Epoch 14/50\n",
      "908/908 [==============================] - 37s 40ms/step - loss: 0.1700 - accuracy: 0.9447 - val_loss: 0.7583 - val_accuracy: 0.8607\n",
      "Epoch 15/50\n",
      "908/908 [==============================] - 35s 39ms/step - loss: 0.1636 - accuracy: 0.9467 - val_loss: 0.8359 - val_accuracy: 0.8495\n",
      "Epoch 16/50\n",
      "908/908 [==============================] - 36s 40ms/step - loss: 0.1527 - accuracy: 0.9498 - val_loss: 0.8321 - val_accuracy: 0.8541\n",
      "Epoch 17/50\n",
      "908/908 [==============================] - 36s 39ms/step - loss: 0.1481 - accuracy: 0.9530 - val_loss: 0.8617 - val_accuracy: 0.8573\n",
      "Epoch 18/50\n",
      "908/908 [==============================] - 36s 40ms/step - loss: 0.1388 - accuracy: 0.9562 - val_loss: 0.9146 - val_accuracy: 0.8582\n"
     ]
    },
    {
     "data": {
      "text/plain": [
       "<keras.callbacks.History at 0x7f67873fe9a0>"
      ]
     },
     "execution_count": 15,
     "metadata": {},
     "output_type": "execute_result"
    }
   ],
   "source": [
    "from tensorflow.keras.callbacks import EarlyStopping\n",
    "\n",
    "model.compile(\n",
    "    optimizer='adam',\n",
    "    loss='categorical_crossentropy',\n",
    "    metrics=['accuracy']\n",
    ")\n",
    "\n",
    "\n",
    "es = EarlyStopping(monitor='val_accuracy', mode='max', patience=5,  restore_best_weights=True)\n",
    "\n",
    "model.fit(x_train, y_train, epochs=50, validation_split=0.2, batch_size=32, callbacks=[es])"
   ]
  },
  {
   "cell_type": "code",
   "execution_count": 19,
   "metadata": {},
   "outputs": [
    {
     "name": "stdout",
     "output_type": "stream",
     "text": [
      "1/1 [==============================] - 0s 23ms/step\n"
     ]
    },
    {
     "data": {
      "text/plain": [
       "array([[0.0000000e+00, 3.4126278e-36, 2.4456801e-34, 0.0000000e+00,\n",
       "        0.0000000e+00, 0.0000000e+00, 0.0000000e+00, 1.3031604e-32,\n",
       "        0.0000000e+00, 0.0000000e+00, 0.0000000e+00, 0.0000000e+00,\n",
       "        1.0000000e+00, 7.4905679e-31, 0.0000000e+00, 0.0000000e+00,\n",
       "        0.0000000e+00, 0.0000000e+00, 0.0000000e+00, 0.0000000e+00,\n",
       "        0.0000000e+00, 0.0000000e+00, 1.0549303e-37, 0.0000000e+00,\n",
       "        6.7797821e-36, 0.0000000e+00, 0.0000000e+00, 0.0000000e+00,\n",
       "        0.0000000e+00, 0.0000000e+00, 0.0000000e+00, 0.0000000e+00,\n",
       "        0.0000000e+00, 0.0000000e+00, 0.0000000e+00, 0.0000000e+00,\n",
       "        4.5613204e-38, 0.0000000e+00, 7.4406331e-34, 0.0000000e+00,\n",
       "        0.0000000e+00, 7.9408963e-36, 0.0000000e+00],\n",
       "       [4.1512739e-12, 6.6080820e-06, 7.8983510e-07, 1.5811435e-06,\n",
       "        1.3831764e-05, 3.1484937e-08, 3.7811067e-11, 2.5975558e-10,\n",
       "        3.4432971e-06, 2.7480095e-08, 1.0203946e-10, 5.3578051e-04,\n",
       "        9.3616372e-06, 3.6711779e-06, 2.4849458e-08, 2.5991131e-09,\n",
       "        2.7941237e-06, 2.9742338e-07, 4.2466547e-02, 2.8280127e-09,\n",
       "        1.5974403e-05, 3.7102326e-04, 1.7806007e-05, 2.6954850e-02,\n",
       "        9.2621642e-01, 3.2660561e-03, 4.1740557e-05, 5.0302756e-10,\n",
       "        1.9206093e-06, 5.1929700e-08, 2.1142536e-05, 2.2974058e-08,\n",
       "        1.0886535e-07, 6.0515418e-08, 3.7845447e-09, 4.5002225e-06,\n",
       "        2.9000693e-08, 4.1395277e-05, 1.9380648e-06, 3.2234115e-11,\n",
       "        4.6470432e-12, 1.4597082e-07, 1.0902576e-11]], dtype=float32)"
      ]
     },
     "execution_count": 19,
     "metadata": {},
     "output_type": "execute_result"
    }
   ],
   "source": [
    "model.predict(x_train[:2])"
   ]
  },
  {
   "cell_type": "markdown",
   "metadata": {
    "id": "t-jcAR_Y3mwN"
   },
   "source": [
    "*TODO: omówienie (100 słów)*"
   ]
  },
  {
   "cell_type": "markdown",
   "metadata": {
    "id": "ceCsNpA42H7Z"
   },
   "source": [
    "omówienie will be here..."
   ]
  },
  {
   "cell_type": "markdown",
   "metadata": {
    "id": "YMwQtLDyyBIn"
   },
   "source": [
    "### Zadanie 2: Dodatkowe sieci ###\n",
    "**(Zadanie na ocenę 4, po wykonaniu  zadania 1)**\n",
    "\n",
    "Przeprowadź to samo na dwóch dodatkowych sieciach i omów wyniki (100 słów). \n",
    "\n",
    "Czyli jeśli w zadaniu 1 użyliśmy np. VGG to teraz wybieramy sobie np. ResNet i MobileNet. "
   ]
  },
  {
   "cell_type": "code",
   "execution_count": 30,
   "metadata": {},
   "outputs": [],
   "source": [
    "def train_model(model, dataloaders, criterion, optimizer, num_epochs=25, is_inception=False):\n",
    "    since = time.time()\n",
    "\n",
    "    val_acc_history = []\n",
    "\n",
    "    best_model_wts = copy.deepcopy(model.state_dict())\n",
    "    best_acc = 0.0\n",
    "\n",
    "    for epoch in range(num_epochs):\n",
    "        print('Epoch {}/{}'.format(epoch, num_epochs - 1))\n",
    "        print('-' * 10)\n",
    "\n",
    "        # Each epoch has a training and validation phase\n",
    "        for phase in ['train', 'val']:\n",
    "            if phase == 'train':\n",
    "                model.train()  # Set model to training mode\n",
    "            else:\n",
    "                model.eval()   # Set model to evaluate mode\n",
    "\n",
    "            running_loss = 0.0\n",
    "            running_corrects = 0\n",
    "\n",
    "            # Iterate over data.\n",
    "            for inputs, labels in dataloaders[phase]:\n",
    "                labels = labels.type(torch.LongTensor)   # casting to long\n",
    "                inputs = inputs.to(device)\n",
    "                labels = labels.to(device)\n",
    "\n",
    "                # zero the parameter gradients\n",
    "                optimizer.zero_grad()\n",
    "                \n",
    "\n",
    "                # forward\n",
    "                # track history if only in train\n",
    "                with torch.set_grad_enabled(phase == 'train'):\n",
    "                    # Get model outputs and calculate loss\n",
    "                    # Special case for inception because in training it has an auxiliary output. In train\n",
    "                    #   mode we calculate the loss by summing the final output and the auxiliary output\n",
    "                    #   but in testing we only consider the final output.\n",
    "                    if is_inception and phase == 'train':\n",
    "                        # From https://discuss.pytorch.org/t/how-to-optimize-inception-model-with-auxiliary-classifiers/7958\n",
    "                        outputs, aux_outputs = model(inputs)\n",
    "                        loss1 = criterion(outputs, labels)\n",
    "                        loss2 = criterion(aux_outputs, labels)\n",
    "                        loss = loss1 + 0.4*loss2\n",
    "                    else:\n",
    "                        outputs = model(inputs)\n",
    "                        loss = criterion(outputs, labels)\n",
    "\n",
    "                    _, preds = torch.max(outputs, 1)\n",
    "\n",
    "                    # backward + optimize only if in training phase\n",
    "                    if phase == 'train':\n",
    "                        loss.backward()\n",
    "                        optimizer.step()\n",
    "\n",
    "                # statistics\n",
    "                running_loss += loss.item() * inputs.size(0)\n",
    "                running_corrects += torch.sum(preds == labels.data)\n",
    "\n",
    "            epoch_loss = running_loss / len(dataloaders[phase].dataset)\n",
    "            epoch_acc = running_corrects.double() / len(dataloaders[phase].dataset)\n",
    "\n",
    "            print('{} Loss: {:.4f} Acc: {:.4f}'.format(phase, epoch_loss, epoch_acc))\n",
    "\n",
    "            # deep copy the model\n",
    "            if phase == 'val' and epoch_acc > best_acc:\n",
    "                best_acc = epoch_acc\n",
    "                best_model_wts = copy.deepcopy(model.state_dict())\n",
    "            if phase == 'val':\n",
    "                val_acc_history.append(epoch_acc)\n",
    "\n",
    "        print()\n",
    "\n",
    "    time_elapsed = time.time() - since\n",
    "    print('Training complete in {:.0f}m {:.0f}s'.format(time_elapsed // 60, time_elapsed % 60))\n",
    "    print('Best val Acc: {:4f}'.format(best_acc))\n",
    "\n",
    "    # load best model weights\n",
    "    model.load_state_dict(best_model_wts)\n",
    "    return model, val_acc_history"
   ]
  },
  {
   "cell_type": "code",
   "execution_count": 21,
   "metadata": {},
   "outputs": [],
   "source": [
    "def set_parameter_requires_grad(model, feature_extracting):\n",
    "    if feature_extracting:\n",
    "        for param in model.parameters():\n",
    "            param.requires_grad = False"
   ]
  },
  {
   "cell_type": "code",
   "execution_count": 22,
   "metadata": {},
   "outputs": [],
   "source": [
    "from torchvision.models import resnet50, ResNet50_Weights\n",
    "import torch.nn as nn\n",
    "from torch import optim\n",
    "import torch\n",
    "\n",
    "num_epochs = 5\n",
    "feature_extract=True\n",
    "model_ft = None\n",
    "input_size = 0\n",
    "num_classes = 43\n",
    "criterion = nn.CrossEntropyLoss()\n",
    "base_model = resnet50(weights=ResNet50_Weights.IMAGENET1K_V2)\n",
    "optimizer_ft = optim.SGD(base_model.parameters(), lr=0.001, momentum=0.9)\n",
    "\n",
    "set_parameter_requires_grad(base_model, feature_extract)\n",
    "num_ftrs = base_model.fc.in_features\n",
    "base_model.fc = nn.Linear(num_ftrs, num_classes)\n",
    "input_size = 224\n",
    "device = torch.device(\"cuda:0\")"
   ]
  },
  {
   "cell_type": "code",
   "execution_count": 23,
   "metadata": {},
   "outputs": [
    {
     "name": "stdout",
     "output_type": "stream",
     "text": [
      "Params to learn:\n",
      "\t fc.weight\n",
      "\t fc.bias\n"
     ]
    }
   ],
   "source": [
    "base_model = base_model.to(device)\n",
    "\n",
    "params_to_update = base_model.parameters()\n",
    "print(\"Params to learn:\")\n",
    "\n",
    "params_to_update = []\n",
    "for name,param in base_model.named_parameters():\n",
    "    if param.requires_grad == True:\n",
    "        params_to_update.append(param)\n",
    "        print(\"\\t\",name)"
   ]
  },
  {
   "cell_type": "code",
   "execution_count": 24,
   "metadata": {},
   "outputs": [
    {
     "ename": "SyntaxError",
     "evalue": "invalid syntax (<ipython-input-24-d51e8e81edfd>, line 10)",
     "output_type": "error",
     "traceback": [
      "\u001b[0;36m  File \u001b[0;32m\"<ipython-input-24-d51e8e81edfd>\"\u001b[0;36m, line \u001b[0;32m10\u001b[0m\n\u001b[0;31m    my_dataset = TensorDataset(tensor_x,tensor_y) # create your datset\u001b[0m\n\u001b[0m    ^\u001b[0m\n\u001b[0;31mSyntaxError\u001b[0m\u001b[0;31m:\u001b[0m invalid syntax\n"
     ]
    }
   ],
   "source": [
    "import numpy as np\n",
    "from torch.utils.data import TensorDataset, DataLoader\n",
    "\n",
    "\n",
    "tensor_x = torch.Tensor(x_train) # transform to torch tensor\n",
    "tensor_y = torch.Tensor(y_train)\n",
    "\n",
    "data_transforms = {\n",
    "    'train'\n",
    "my_dataset = TensorDataset(tensor_x,tensor_y) # create your datset\n",
    "my_dataloader = DataLoader(my_dataset) # create your dataloader\n"
   ]
  },
  {
   "cell_type": "code",
   "execution_count": 25,
   "metadata": {},
   "outputs": [],
   "source": [
    "import time\n",
    "import copy"
   ]
  },
  {
   "cell_type": "code",
   "execution_count": 26,
   "metadata": {},
   "outputs": [],
   "source": [
    "from torch.utils.data import DataLoader, TensorDataset\n",
    "my_dataset_train = TensorDataset(torch.Tensor(x_train).permute(0, 3, 1, 2), torch.Tensor(y_train))\n",
    "my_dataset_val = TensorDataset(torch.Tensor(x_validation).permute(0, 3, 1, 2), torch.Tensor(y_validation))\n",
    "\n",
    "loader= {'train': DataLoader(my_dataset_train, batch_size=64), 'val': DataLoader(my_dataset_val, batch_size=64)}"
   ]
  },
  {
   "cell_type": "code",
   "execution_count": 31,
   "metadata": {},
   "outputs": [
    {
     "name": "stdout",
     "output_type": "stream",
     "text": [
      "Epoch 0/4\n",
      "----------\n",
      "train Loss: 3.7989 Acc: 0.0284\n",
      "val Loss: 3.7957 Acc: 0.0277\n",
      "\n",
      "Epoch 1/4\n",
      "----------\n",
      "train Loss: 3.7989 Acc: 0.0284\n",
      "val Loss: 3.7957 Acc: 0.0277\n",
      "\n",
      "Epoch 2/4\n",
      "----------\n",
      "train Loss: 3.7989 Acc: 0.0284\n",
      "val Loss: 3.7957 Acc: 0.0277\n",
      "\n",
      "Epoch 3/4\n",
      "----------\n",
      "train Loss: 3.7989 Acc: 0.0284\n",
      "val Loss: 3.7957 Acc: 0.0277\n",
      "\n",
      "Epoch 4/4\n",
      "----------\n",
      "train Loss: 3.7989 Acc: 0.0284\n",
      "val Loss: 3.7957 Acc: 0.0277\n",
      "\n",
      "Training complete in 2m 35s\n",
      "Best val Acc: 0.027653\n"
     ]
    }
   ],
   "source": [
    "model_ft, hist = train_model(base_model, loader, criterion, optimizer_ft, num_epochs=num_epochs)"
   ]
  },
  {
   "cell_type": "markdown",
   "metadata": {
    "id": "68eGKyM132xk"
   },
   "source": [
    "*TODO: omówienie (100 słów)*"
   ]
  },
  {
   "cell_type": "markdown",
   "metadata": {
    "id": "-YbAVdOX2yL_"
   },
   "source": [
    "### Zadanie 3: Trening od zera i porównanie ###\n",
    "**(Zadanie na ocenę 5, po wykonaniu zadania 1 i 2)**\n",
    "\n",
    "Spróbuj skonstruować swój własny model i wytrenować go 'od zera' na tych samych danych. Porównaj i omów swój ekeperyment i wyniki (100 słów)."
   ]
  },
  {
   "cell_type": "markdown",
   "metadata": {},
   "source": [
    "reference: https://keras.io/api/applications/#usage-examples-for-image-classification-models"
   ]
  },
  {
   "cell_type": "code",
   "execution_count": null,
   "metadata": {
    "id": "lXGDTBURyAS4"
   },
   "outputs": [],
   "source": []
  },
  {
   "cell_type": "markdown",
   "metadata": {
    "id": "v9J2omGo34Hz"
   },
   "source": [
    "*TODO: omówienie (100 słów)*"
   ]
  },
  {
   "cell_type": "markdown",
   "metadata": {
    "id": "Eh2TKe3VE5iq"
   },
   "source": [
    "To wszystko, dziękuję. Wypełniony notatnik zapisz jako .ipynb i oddaj w Teams. "
   ]
  }
 ],
 "metadata": {
  "accelerator": "GPU",
  "colab": {
   "provenance": [],
   "toc_visible": true
  },
  "kernelspec": {
   "display_name": "Python 3",
   "language": "python",
   "name": "python3"
  },
  "language_info": {
   "codemirror_mode": {
    "name": "ipython",
    "version": 3
   },
   "file_extension": ".py",
   "mimetype": "text/x-python",
   "name": "python",
   "nbconvert_exporter": "python",
   "pygments_lexer": "ipython3",
   "version": "3.8.10"
  }
 },
 "nbformat": 4,
 "nbformat_minor": 1
}
