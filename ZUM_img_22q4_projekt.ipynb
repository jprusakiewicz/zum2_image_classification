{
 "cells": [
  {
   "cell_type": "code",
   "execution_count": 1,
   "metadata": {},
   "outputs": [
    {
     "name": "stdout",
     "output_type": "stream",
     "text": [
      "Fri Dec 23 23:24:11 2022       \n",
      "+-----------------------------------------------------------------------------+\n",
      "| NVIDIA-SMI 515.43.04    Driver Version: 515.43.04    CUDA Version: 11.7     |\n",
      "|-------------------------------+----------------------+----------------------+\n",
      "| GPU  Name        Persistence-M| Bus-Id        Disp.A | Volatile Uncorr. ECC |\n",
      "| Fan  Temp  Perf  Pwr:Usage/Cap|         Memory-Usage | GPU-Util  Compute M. |\n",
      "|                               |                      |               MIG M. |\n",
      "|===============================+======================+======================|\n",
      "|   0  NVIDIA GeForce ...  On   | 00000000:01:00.0  On |                  N/A |\n",
      "| 45%   30C    P8    N/A /  75W |    469MiB /  4096MiB |     17%      Default |\n",
      "|                               |                      |                  N/A |\n",
      "+-------------------------------+----------------------+----------------------+\n",
      "                                                                               \n",
      "+-----------------------------------------------------------------------------+\n",
      "| Processes:                                                                  |\n",
      "|  GPU   GI   CI        PID   Type   Process name                  GPU Memory |\n",
      "|        ID   ID                                                   Usage      |\n",
      "|=============================================================================|\n",
      "|    0   N/A  N/A      1142      G   /usr/lib/xorg/Xorg                 35MiB |\n",
      "|    0   N/A  N/A     72352      G   /usr/lib/xorg/Xorg                165MiB |\n",
      "|    0   N/A  N/A     72483      G   /usr/bin/gnome-shell               41MiB |\n",
      "|    0   N/A  N/A     72958      G   ...AAAAAAAAA= --shared-files       57MiB |\n",
      "|    0   N/A  N/A     77761      G   /usr/lib/firefox/firefox          133MiB |\n",
      "|    0   N/A  N/A     87837      G   gnome-control-center                1MiB |\n",
      "|    0   N/A  N/A     93339      G   ...526599576985143180,131072       22MiB |\n",
      "+-----------------------------------------------------------------------------+\n"
     ]
    }
   ],
   "source": [
    "!nvidia-smi"
   ]
  },
  {
   "cell_type": "code",
   "execution_count": 2,
   "metadata": {},
   "outputs": [],
   "source": [
    "import os\n",
    "os.environ['TF_FORCE_GPU_ALLOW_GROWTH'] = 'true'"
   ]
  },
  {
   "cell_type": "code",
   "execution_count": 3,
   "metadata": {},
   "outputs": [],
   "source": [
    "import tensorflow as tf\n",
    "\n",
    "gpu_options = tf.compat.v1.GPUOptions(allow_growth=True)\n",
    "session = tf.compat.v1.InteractiveSession(config=tf.compat.v1.ConfigProto(gpu_options=gpu_options))"
   ]
  },
  {
   "cell_type": "markdown",
   "metadata": {
    "id": "IImW6xGnwobW"
   },
   "source": [
    "# Obraz - transfer learning - praca domowa\n",
    "Ostatnia aktualizacja: 2022.12.10\n",
    "\n",
    "Z dokumentacji [Keras](https://keras.io/guides/transfer_learning/): *Transfer learning consists of taking features learned on one problem, and leveraging them on a new, similar problem.*\n",
    "\n",
    "Głównym celem pracy domowej jest stworzenie klasyfikatora, który będzie odróżniał zdjęcia obiektów w wybranym przez nas zbiorze. Użyjemy do tego jednego z [gotowych modeli Keras](https://keras.io/api/applications/), wytrenowanego wcześniej na zbiorze Imagenet. \n",
    "\n",
    "Przydatne źródła:\n",
    "- [transfer learning vgg16 + tf_flowers](https://towardsdatascience.com/transfer-learning-with-vgg16-and-keras-50ea161580b4)\n",
    "- [Keras - transfer learning](https://keras.io/guides/transfer_learning/)"
   ]
  },
  {
   "cell_type": "markdown",
   "metadata": {
    "id": "B_VaMT6Ixv2P"
   },
   "source": [
    "### Wybrany zbiór danych:\n",
    "\n",
    "- [znaki drogowe](https://www.kaggle.com/datasets/valentynsichkar/traffic-signs-1-million-images-for-classification). \n"
   ]
  },
  {
   "cell_type": "code",
   "execution_count": 2,
   "metadata": {},
   "outputs": [],
   "source": [
    "import h5py\n",
    "filename = \"dataset_ts_original.hdf5\"\n",
    "\n",
    "with h5py.File(filename, \"r\") as f:\n",
    "    \n",
    "    x_test = f['x_test'][()].astype('float32')\n",
    "    x_train = f['x_train'][()].astype('float32')\n",
    "    y_test = f['y_test'][()].astype('float32')\n",
    "    y_train = f['y_train'][()].astype('float32')\n",
    "    x_validation = f['x_validation'][()].astype('float32')\n",
    "    y_validation = f['y_validation'][()].astype('float32')"
   ]
  },
  {
   "cell_type": "markdown",
   "metadata": {
    "id": "LgWoGVFJ2BA5"
   },
   "source": [
    "### Zadanie 1: Wytrenuj model na swoich danych ###\n",
    "**(Zadanie na ocenę 3)**\n",
    "\n",
    "Wytrenuj wybrany model na swoich danych. Omów eksperyment i wyniki (100 słów). "
   ]
  },
  {
   "cell_type": "code",
   "execution_count": 15,
   "metadata": {},
   "outputs": [
    {
     "name": "stdout",
     "output_type": "stream",
     "text": [
      "(3111, 48, 48, 3)\n",
      "(36288, 48, 48, 3)\n",
      "(12440, 48, 48, 3)\n"
     ]
    }
   ],
   "source": [
    "assert x_test.shape[1:] == x_train.shape[1:] == x_validation.shape[1:]\n",
    "print(x_test.shape)\n",
    "print(x_train.shape)\n",
    "print(x_validation.shape)"
   ]
  },
  {
   "cell_type": "code",
   "execution_count": 6,
   "metadata": {},
   "outputs": [],
   "source": [
    "# x_validation_resized = tf.image.resize(x_validation[:300], (150, 150)).numpy()\n",
    "# x_test_resized = tf.image.resize(x_test[:50], (150, 150)).numpy()\n",
    "# x_train_resized = tf.image.resize(x_train[:1500], (150, 150)).numpy()"
   ]
  },
  {
   "cell_type": "code",
   "execution_count": 2,
   "metadata": {},
   "outputs": [
    {
     "data": {
      "text/plain": [
       "(48, 48, 3)"
      ]
     },
     "execution_count": 2,
     "metadata": {},
     "output_type": "execute_result"
    }
   ],
   "source": [
    "x_train[0].shape"
   ]
  },
  {
   "cell_type": "markdown",
   "metadata": {
    "id": "BAo9-ecevKWT"
   },
   "source": [
    "### Wczytaj wytrenowany model do klasyfikacji obrazu. ###\n",
    "Może to być jeden z gotowych [modeli dostępnych w Keras](https://keras.io/api/applications/). Wczytujemy go z wytrenowanymi już wcześniej wagami na Imagenecie (weights='imagenet'). \n",
    "\n",
    "Model możemy wczytać bez ostatnich warstw (include_top=False) i dodać je potem ręcznie, dostosowane do liczby klas w naszym zbiorze. Imagenet ma 1000 klas, my prawdopodobnie będziemy mieć ich mniej. \n",
    "\n",
    "Pamiętaj, żeby wyłączyć lub ograniczyć trening części modelu z wytrenowanymi już wagami (trainable=False). "
   ]
  },
  {
   "cell_type": "code",
   "execution_count": 8,
   "metadata": {
    "id": "IccXldfvxvYH"
   },
   "outputs": [],
   "source": [
    "import numpy as np\n",
    "import tensorflow as tf\n",
    "from tensorflow import keras"
   ]
  },
  {
   "cell_type": "code",
   "execution_count": 9,
   "metadata": {},
   "outputs": [],
   "source": [
    "from tensorflow.keras.applications.vgg16 import VGG16, preprocess_input\n",
    "from tensorflow.keras.preprocessing import image\n",
    "import numpy as np\n",
    "\n",
    "base_model = VGG16(weights='imagenet', include_top=False, input_shape=x_train[0].shape)\n",
    "base_model.trainable = False\n"
   ]
  },
  {
   "cell_type": "code",
   "execution_count": 10,
   "metadata": {},
   "outputs": [],
   "source": [
    "from tensorflow.keras import layers, models\n",
    "\n",
    "flatten_layer = layers.Flatten()\n",
    "dense_layer_1 = layers.Dense(150, activation='relu')\n",
    "prediction_layer = layers.Dense(43, activation='softmax')\n",
    "\n",
    "\n",
    "model = models.Sequential([\n",
    "    base_model,\n",
    "    flatten_layer,\n",
    "    dense_layer_1,\n",
    "    prediction_layer\n",
    "])"
   ]
  },
  {
   "cell_type": "code",
   "execution_count": 11,
   "metadata": {},
   "outputs": [
    {
     "name": "stdout",
     "output_type": "stream",
     "text": [
      "Model: \"sequential\"\n",
      "_________________________________________________________________\n",
      " Layer (type)                Output Shape              Param #   \n",
      "=================================================================\n",
      " vgg16 (Functional)          (None, 1, 1, 512)         14714688  \n",
      "                                                                 \n",
      " flatten (Flatten)           (None, 512)               0         \n",
      "                                                                 \n",
      " dense (Dense)               (None, 150)               76950     \n",
      "                                                                 \n",
      " dense_1 (Dense)             (None, 43)                6493      \n",
      "                                                                 \n",
      "=================================================================\n",
      "Total params: 14,798,131\n",
      "Trainable params: 83,443\n",
      "Non-trainable params: 14,714,688\n",
      "_________________________________________________________________\n"
     ]
    }
   ],
   "source": [
    "model.summary()"
   ]
  },
  {
   "cell_type": "code",
   "execution_count": 12,
   "metadata": {},
   "outputs": [
    {
     "data": {
      "text/plain": [
       "(36288,)"
      ]
     },
     "execution_count": 12,
     "metadata": {},
     "output_type": "execute_result"
    }
   ],
   "source": [
    "y_train.shape"
   ]
  },
  {
   "cell_type": "code",
   "execution_count": 74,
   "metadata": {},
   "outputs": [],
   "source": [
    "import pandas as pd\n",
    "y_train = pd.get_dummies(y_train).to_numpy()\n",
    "y_validation = pd.get_dummies(y_validation).to_numpy()\n",
    "y_test = pd.get_dummies(y_test).to_numpy()"
   ]
  },
  {
   "cell_type": "code",
   "execution_count": 75,
   "metadata": {
    "scrolled": true
   },
   "outputs": [
    {
     "data": {
      "text/plain": [
       "array([[0., 0., 0., ..., 0., 0., 0.],\n",
       "       [0., 0., 0., ..., 0., 0., 0.],\n",
       "       [0., 0., 0., ..., 0., 0., 0.],\n",
       "       ...,\n",
       "       [0., 0., 0., ..., 0., 0., 0.],\n",
       "       [0., 0., 0., ..., 0., 0., 0.],\n",
       "       [0., 0., 1., ..., 0., 0., 0.]])"
      ]
     },
     "execution_count": 75,
     "metadata": {},
     "output_type": "execute_result"
    }
   ],
   "source": [
    "y_test"
   ]
  },
  {
   "cell_type": "code",
   "execution_count": 15,
   "metadata": {},
   "outputs": [
    {
     "name": "stdout",
     "output_type": "stream",
     "text": [
      "Epoch 1/50\n",
      "908/908 [==============================] - 41s 40ms/step - loss: 2.0640 - accuracy: 0.6008 - val_loss: 1.0568 - val_accuracy: 0.7152\n",
      "Epoch 2/50\n",
      "908/908 [==============================] - 35s 39ms/step - loss: 0.7532 - accuracy: 0.7740 - val_loss: 0.7749 - val_accuracy: 0.7852\n",
      "Epoch 3/50\n",
      "908/908 [==============================] - 35s 39ms/step - loss: 0.5510 - accuracy: 0.8295 - val_loss: 0.7730 - val_accuracy: 0.7834\n",
      "Epoch 4/50\n",
      "908/908 [==============================] - 35s 39ms/step - loss: 0.4541 - accuracy: 0.8551 - val_loss: 0.6933 - val_accuracy: 0.8143\n",
      "Epoch 5/50\n",
      "908/908 [==============================] - 35s 39ms/step - loss: 0.3894 - accuracy: 0.8763 - val_loss: 0.6481 - val_accuracy: 0.8330\n",
      "Epoch 6/50\n",
      "908/908 [==============================] - 35s 39ms/step - loss: 0.3391 - accuracy: 0.8892 - val_loss: 0.6649 - val_accuracy: 0.8325\n",
      "Epoch 7/50\n",
      "908/908 [==============================] - 35s 39ms/step - loss: 0.3023 - accuracy: 0.9006 - val_loss: 0.6673 - val_accuracy: 0.8418\n",
      "Epoch 8/50\n",
      "908/908 [==============================] - 35s 39ms/step - loss: 0.2740 - accuracy: 0.9114 - val_loss: 0.6449 - val_accuracy: 0.8455\n",
      "Epoch 9/50\n",
      "908/908 [==============================] - 35s 39ms/step - loss: 0.2414 - accuracy: 0.9219 - val_loss: 0.6529 - val_accuracy: 0.8541\n",
      "Epoch 10/50\n",
      "908/908 [==============================] - 35s 39ms/step - loss: 0.2299 - accuracy: 0.9261 - val_loss: 0.6665 - val_accuracy: 0.8563\n",
      "Epoch 11/50\n",
      "908/908 [==============================] - 35s 39ms/step - loss: 0.2144 - accuracy: 0.9311 - val_loss: 0.7492 - val_accuracy: 0.8538\n",
      "Epoch 12/50\n",
      "908/908 [==============================] - 36s 40ms/step - loss: 0.1930 - accuracy: 0.9385 - val_loss: 0.7461 - val_accuracy: 0.8494\n",
      "Epoch 13/50\n",
      "908/908 [==============================] - 36s 40ms/step - loss: 0.1832 - accuracy: 0.9402 - val_loss: 0.7188 - val_accuracy: 0.8637\n",
      "Epoch 14/50\n",
      "908/908 [==============================] - 37s 40ms/step - loss: 0.1700 - accuracy: 0.9447 - val_loss: 0.7583 - val_accuracy: 0.8607\n",
      "Epoch 15/50\n",
      "908/908 [==============================] - 35s 39ms/step - loss: 0.1636 - accuracy: 0.9467 - val_loss: 0.8359 - val_accuracy: 0.8495\n",
      "Epoch 16/50\n",
      "908/908 [==============================] - 36s 40ms/step - loss: 0.1527 - accuracy: 0.9498 - val_loss: 0.8321 - val_accuracy: 0.8541\n",
      "Epoch 17/50\n",
      "908/908 [==============================] - 36s 39ms/step - loss: 0.1481 - accuracy: 0.9530 - val_loss: 0.8617 - val_accuracy: 0.8573\n",
      "Epoch 18/50\n",
      "908/908 [==============================] - 36s 40ms/step - loss: 0.1388 - accuracy: 0.9562 - val_loss: 0.9146 - val_accuracy: 0.8582\n"
     ]
    },
    {
     "data": {
      "text/plain": [
       "<keras.callbacks.History at 0x7f67873fe9a0>"
      ]
     },
     "execution_count": 15,
     "metadata": {},
     "output_type": "execute_result"
    }
   ],
   "source": [
    "from tensorflow.keras.callbacks import EarlyStopping\n",
    "\n",
    "model.compile(\n",
    "    optimizer='adam',\n",
    "    loss='categorical_crossentropy',\n",
    "    metrics=['accuracy']\n",
    ")\n",
    "\n",
    "\n",
    "es = EarlyStopping(monitor='val_accuracy', mode='max', patience=5,  restore_best_weights=True)\n",
    "\n",
    "model.fit(x_train, y_train, epochs=50, validation_split=0.2, batch_size=32, callbacks=[es])"
   ]
  },
  {
   "cell_type": "code",
   "execution_count": 19,
   "metadata": {
    "scrolled": true
   },
   "outputs": [
    {
     "name": "stdout",
     "output_type": "stream",
     "text": [
      "1/1 [==============================] - 0s 23ms/step\n"
     ]
    },
    {
     "data": {
      "text/plain": [
       "array([[0.0000000e+00, 3.4126278e-36, 2.4456801e-34, 0.0000000e+00,\n",
       "        0.0000000e+00, 0.0000000e+00, 0.0000000e+00, 1.3031604e-32,\n",
       "        0.0000000e+00, 0.0000000e+00, 0.0000000e+00, 0.0000000e+00,\n",
       "        1.0000000e+00, 7.4905679e-31, 0.0000000e+00, 0.0000000e+00,\n",
       "        0.0000000e+00, 0.0000000e+00, 0.0000000e+00, 0.0000000e+00,\n",
       "        0.0000000e+00, 0.0000000e+00, 1.0549303e-37, 0.0000000e+00,\n",
       "        6.7797821e-36, 0.0000000e+00, 0.0000000e+00, 0.0000000e+00,\n",
       "        0.0000000e+00, 0.0000000e+00, 0.0000000e+00, 0.0000000e+00,\n",
       "        0.0000000e+00, 0.0000000e+00, 0.0000000e+00, 0.0000000e+00,\n",
       "        4.5613204e-38, 0.0000000e+00, 7.4406331e-34, 0.0000000e+00,\n",
       "        0.0000000e+00, 7.9408963e-36, 0.0000000e+00],\n",
       "       [4.1512739e-12, 6.6080820e-06, 7.8983510e-07, 1.5811435e-06,\n",
       "        1.3831764e-05, 3.1484937e-08, 3.7811067e-11, 2.5975558e-10,\n",
       "        3.4432971e-06, 2.7480095e-08, 1.0203946e-10, 5.3578051e-04,\n",
       "        9.3616372e-06, 3.6711779e-06, 2.4849458e-08, 2.5991131e-09,\n",
       "        2.7941237e-06, 2.9742338e-07, 4.2466547e-02, 2.8280127e-09,\n",
       "        1.5974403e-05, 3.7102326e-04, 1.7806007e-05, 2.6954850e-02,\n",
       "        9.2621642e-01, 3.2660561e-03, 4.1740557e-05, 5.0302756e-10,\n",
       "        1.9206093e-06, 5.1929700e-08, 2.1142536e-05, 2.2974058e-08,\n",
       "        1.0886535e-07, 6.0515418e-08, 3.7845447e-09, 4.5002225e-06,\n",
       "        2.9000693e-08, 4.1395277e-05, 1.9380648e-06, 3.2234115e-11,\n",
       "        4.6470432e-12, 1.4597082e-07, 1.0902576e-11]], dtype=float32)"
      ]
     },
     "execution_count": 19,
     "metadata": {},
     "output_type": "execute_result"
    }
   ],
   "source": [
    "model.predict(x_train[:2])"
   ]
  },
  {
   "cell_type": "markdown",
   "metadata": {
    "id": "t-jcAR_Y3mwN"
   },
   "source": [
    "*TODO: omówienie (100 słów)*"
   ]
  },
  {
   "cell_type": "markdown",
   "metadata": {
    "id": "ceCsNpA42H7Z"
   },
   "source": [
    "omówienie will be here..."
   ]
  },
  {
   "cell_type": "markdown",
   "metadata": {
    "id": "YMwQtLDyyBIn"
   },
   "source": [
    "### Zadanie 2: Dodatkowe sieci ###\n",
    "**(Zadanie na ocenę 4, po wykonaniu  zadania 1)**\n",
    "\n",
    "Przeprowadź to samo na dwóch dodatkowych sieciach i omów wyniki (100 słów). \n",
    "\n",
    "Czyli jeśli w zadaniu 1 użyliśmy np. VGG to teraz wybieramy sobie np. ResNet i MobileNet. "
   ]
  },
  {
   "cell_type": "markdown",
   "metadata": {},
   "source": [
    "## Let's try pytorch lightning"
   ]
  },
  {
   "cell_type": "markdown",
   "metadata": {},
   "source": [
    "https://www.kaggle.com/code/shreydan/resnet50-pytorch-lightning-kfolds"
   ]
  },
  {
   "cell_type": "code",
   "execution_count": 1,
   "metadata": {},
   "outputs": [],
   "source": [
    "import h5py\n",
    "filename = \"dataset_ts_original.hdf5\"\n",
    "\n",
    "with h5py.File(filename, \"r\") as f:\n",
    "    x_test = f['x_test'][()]\n",
    "    x_train = f['x_train'][()]\n",
    "    y_test = f['y_test'][()]\n",
    "    y_train = f['y_train'][()]\n",
    "    x_validation = f['x_validation'][()]\n",
    "    y_validation = f['y_validation'][()]"
   ]
  },
  {
   "cell_type": "code",
   "execution_count": 2,
   "metadata": {},
   "outputs": [],
   "source": [
    "import numpy as np\n",
    "import torch\n",
    "\n",
    "from torch.utils.data import TensorDataset, DataLoader\n",
    "\n",
    "\n",
    "# train\n",
    "tensor_x_train = torch.from_numpy(x_train).permute(0, 3, 1, 2)\n",
    "tensor_y_train = torch.Tensor(y_train)\n",
    "#tensor_y_train = tensor_y_train.type(torch.FloatTensor) # doesn't help, need to do casting in training step\n",
    "tensor_dataset_train = TensorDataset(tensor_x_train, tensor_y_train)\n",
    "\n",
    "# val\n",
    "tensor_x_val = torch.from_numpy(x_validation).permute(0, 3, 1, 2)\n",
    "tensor_y_val = torch.Tensor(y_validation)\n",
    "#tensor_y_val = tensor_y_val.type(torch.FloatTensor)\n",
    "tensor_dataset_val = TensorDataset(tensor_x_val, tensor_y_val)\n",
    "\n",
    "#test\n",
    "tensor_x_test = torch.from_numpy(x_test).permute(0, 3, 1, 2)\n",
    "tensor_y_test = torch.Tensor(y_test)\n",
    "#tensor_y_test = tensor_y_test.type(torch.FloatTensor) \n",
    "tensor_dataset_test = TensorDataset(tensor_x_test, tensor_y_test)"
   ]
  },
  {
   "cell_type": "code",
   "execution_count": 3,
   "metadata": {},
   "outputs": [
    {
     "data": {
      "text/plain": [
       "torch.float32"
      ]
     },
     "execution_count": 3,
     "metadata": {},
     "output_type": "execute_result"
    }
   ],
   "source": [
    "tensor_y_train.dtype"
   ]
  },
  {
   "cell_type": "code",
   "execution_count": 4,
   "metadata": {},
   "outputs": [],
   "source": [
    "import pytorch_lightning as pl\n",
    "\n",
    "class ResNet50Model(pl.LightningModule):\n",
    "    def __init__(self, pretrained=True, in_channels = 3, num_classes = 16, lr=3e-4, freeze=False):\n",
    "        super(ResNet50Model, self).__init__()\n",
    "        self.in_channels = in_channels\n",
    "        self.num_classes = num_classes\n",
    "        self.lr = lr\n",
    "        \n",
    "        self.model = models.resnet50(weights=ResNet50_Weights.IMAGENET1K_V2)\n",
    "        \n",
    "        if freeze:\n",
    "            for param in self.model.parameters():\n",
    "                param.requires_grad = False\n",
    "        \n",
    "        self.model.fc = nn.Sequential(\n",
    "            nn.Linear(self.model.fc.in_features, 128),\n",
    "            nn.Dropout(0.3),\n",
    "            nn.Linear(128, self.num_classes)\n",
    "        )\n",
    "        \n",
    "        self.loss_fn = nn.CrossEntropyLoss()\n",
    "        \n",
    "        self.train_acc = torchmetrics.Accuracy(task=\"multiclass\", num_classes=self.num_classes)\n",
    "        self.val_acc = torchmetrics.Accuracy(task=\"multiclass\", num_classes=self.num_classes)\n",
    "        self.test_acc = torchmetrics.Accuracy(task=\"multiclass\", num_classes=self.num_classes)\n",
    "        \n",
    "        \n",
    "    def forward(self, x):\n",
    "        return self.model(x)\n",
    "    \n",
    "    \n",
    "    def configure_optimizers(self):\n",
    "        optimizer = torch.optim.AdamW(self.parameters(), lr=self.lr)\n",
    "        scheduler = torch.optim.lr_scheduler.StepLR(optimizer, step_size=2)\n",
    "        return [optimizer], [scheduler]\n",
    "    \n",
    "    \n",
    "    def training_step(self, batch, batch_idx):\n",
    "        \n",
    "        x, y = batch\n",
    "        \n",
    "        preds = self.model(x)\n",
    "\n",
    "        y = y.type(torch.LongTensor)\n",
    "        x, y = x.to(device), y.to(device)\n",
    "        \n",
    "        loss = self.loss_fn(preds, y)\n",
    "        self.train_acc(torch.argmax(preds, dim=1), y)\n",
    "        \n",
    "        self.log('train_loss', loss.item(), on_epoch=True)\n",
    "        self.log('train_acc', self.train_acc, on_epoch=True)\n",
    "        \n",
    "        return loss\n",
    "    \n",
    "    \n",
    "    def validation_step(self, batch, batch_idx):\n",
    "        \n",
    "        x,y = batch\n",
    "        \n",
    "        preds = self.model(x)\n",
    "        \n",
    "        y = y.type(torch.LongTensor)\n",
    "        x, y = x.to(device), y.to(device)\n",
    "        \n",
    "        loss = self.loss_fn(preds, y)\n",
    "        self.val_acc(torch.argmax(preds, dim=1), y)\n",
    "        \n",
    "        self.log('val_loss', loss.item(), on_epoch=True)\n",
    "        self.log('val_acc', self.val_acc, on_epoch=True)\n",
    "        \n",
    "    \n",
    "    def test_step(self, batch, batch_idx):\n",
    "        \n",
    "        x,y = batch\n",
    "        preds = self.model(x)\n",
    "        self.test_acc(torch.argmax(preds, dim=1), y)\n",
    "        \n",
    "        self.log('test_acc', self.test_acc, on_epoch=True)"
   ]
  },
  {
   "cell_type": "code",
   "execution_count": 5,
   "metadata": {},
   "outputs": [],
   "source": [
    "import torch\n",
    "import torchvision.models as models\n",
    "import torch.nn as nn\n",
    "import torchmetrics\n",
    "from sklearn.model_selection import StratifiedKFold\n",
    "from pytorch_lightning.callbacks.early_stopping import EarlyStopping\n",
    "from torchvision.models import resnet50, ResNet50_Weights"
   ]
  },
  {
   "cell_type": "markdown",
   "metadata": {},
   "source": [
    "freeze=False"
   ]
  },
  {
   "cell_type": "code",
   "execution_count": 6,
   "metadata": {},
   "outputs": [
    {
     "name": "stderr",
     "output_type": "stream",
     "text": [
      "GPU available: True (cuda), used: True\n",
      "TPU available: False, using: 0 TPU cores\n",
      "IPU available: False, using: 0 IPUs\n",
      "HPU available: False, using: 0 HPUs\n"
     ]
    },
    {
     "name": "stdout",
     "output_type": "stream",
     "text": [
      "\n",
      "\n",
      "\n",
      "======================================== FOLD 1 / 4 ========================================\n"
     ]
    },
    {
     "name": "stderr",
     "output_type": "stream",
     "text": [
      "LOCAL_RANK: 0 - CUDA_VISIBLE_DEVICES: [0]\n",
      "\n",
      "  | Name      | Type               | Params\n",
      "-------------------------------------------------\n",
      "0 | model     | ResNet             | 23.8 M\n",
      "1 | loss_fn   | CrossEntropyLoss   | 0     \n",
      "2 | train_acc | MulticlassAccuracy | 0     \n",
      "3 | val_acc   | MulticlassAccuracy | 0     \n",
      "4 | test_acc  | MulticlassAccuracy | 0     \n",
      "-------------------------------------------------\n",
      "23.8 M    Trainable params\n",
      "0         Non-trainable params\n",
      "23.8 M    Total params\n",
      "95.103    Total estimated model params size (MB)\n"
     ]
    },
    {
     "data": {
      "application/vnd.jupyter.widget-view+json": {
       "model_id": "",
       "version_major": 2,
       "version_minor": 0
      },
      "text/plain": [
       "Sanity Checking: 0it [00:00, ?it/s]"
      ]
     },
     "metadata": {},
     "output_type": "display_data"
    },
    {
     "data": {
      "application/vnd.jupyter.widget-view+json": {
       "model_id": "7b752031963647e3a5f574e78a5da753",
       "version_major": 2,
       "version_minor": 0
      },
      "text/plain": [
       "Training: 0it [00:00, ?it/s]"
      ]
     },
     "metadata": {},
     "output_type": "display_data"
    },
    {
     "data": {
      "application/vnd.jupyter.widget-view+json": {
       "model_id": "",
       "version_major": 2,
       "version_minor": 0
      },
      "text/plain": [
       "Validation: 0it [00:00, ?it/s]"
      ]
     },
     "metadata": {},
     "output_type": "display_data"
    },
    {
     "data": {
      "application/vnd.jupyter.widget-view+json": {
       "model_id": "",
       "version_major": 2,
       "version_minor": 0
      },
      "text/plain": [
       "Validation: 0it [00:00, ?it/s]"
      ]
     },
     "metadata": {},
     "output_type": "display_data"
    },
    {
     "data": {
      "application/vnd.jupyter.widget-view+json": {
       "model_id": "",
       "version_major": 2,
       "version_minor": 0
      },
      "text/plain": [
       "Validation: 0it [00:00, ?it/s]"
      ]
     },
     "metadata": {},
     "output_type": "display_data"
    },
    {
     "data": {
      "application/vnd.jupyter.widget-view+json": {
       "model_id": "",
       "version_major": 2,
       "version_minor": 0
      },
      "text/plain": [
       "Validation: 0it [00:00, ?it/s]"
      ]
     },
     "metadata": {},
     "output_type": "display_data"
    },
    {
     "data": {
      "application/vnd.jupyter.widget-view+json": {
       "model_id": "",
       "version_major": 2,
       "version_minor": 0
      },
      "text/plain": [
       "Validation: 0it [00:00, ?it/s]"
      ]
     },
     "metadata": {},
     "output_type": "display_data"
    },
    {
     "data": {
      "application/vnd.jupyter.widget-view+json": {
       "model_id": "",
       "version_major": 2,
       "version_minor": 0
      },
      "text/plain": [
       "Validation: 0it [00:00, ?it/s]"
      ]
     },
     "metadata": {},
     "output_type": "display_data"
    },
    {
     "data": {
      "application/vnd.jupyter.widget-view+json": {
       "model_id": "",
       "version_major": 2,
       "version_minor": 0
      },
      "text/plain": [
       "Validation: 0it [00:00, ?it/s]"
      ]
     },
     "metadata": {},
     "output_type": "display_data"
    },
    {
     "name": "stderr",
     "output_type": "stream",
     "text": [
      "LOCAL_RANK: 0 - CUDA_VISIBLE_DEVICES: [0]\n"
     ]
    },
    {
     "data": {
      "application/vnd.jupyter.widget-view+json": {
       "model_id": "613452766d9743849d2663e694e41767",
       "version_major": 2,
       "version_minor": 0
      },
      "text/plain": [
       "Testing: 0it [00:00, ?it/s]"
      ]
     },
     "metadata": {},
     "output_type": "display_data"
    },
    {
     "name": "stdout",
     "output_type": "stream",
     "text": [
      "────────────────────────────────────────────────────────────────────────────────\n",
      "       Test metric             DataLoader 0\n",
      "────────────────────────────────────────────────────────────────────────────────\n",
      "        test_acc            0.9980713725090027\n",
      "────────────────────────────────────────────────────────────────────────────────\n",
      "Train Loss: 0.0002568479103501886 | Train Accuracy: 1.0\n",
      "Val Loss: 0.004727860447019339 | Val Accuracy: 0.9988746047019958\n"
     ]
    },
    {
     "name": "stderr",
     "output_type": "stream",
     "text": [
      "GPU available: True (cuda), used: True\n",
      "TPU available: False, using: 0 TPU cores\n",
      "IPU available: False, using: 0 IPUs\n",
      "HPU available: False, using: 0 HPUs\n",
      "LOCAL_RANK: 0 - CUDA_VISIBLE_DEVICES: [0]\n",
      "\n",
      "  | Name      | Type               | Params\n",
      "-------------------------------------------------\n",
      "0 | model     | ResNet             | 23.8 M\n",
      "1 | loss_fn   | CrossEntropyLoss   | 0     \n",
      "2 | train_acc | MulticlassAccuracy | 0     \n",
      "3 | val_acc   | MulticlassAccuracy | 0     \n",
      "4 | test_acc  | MulticlassAccuracy | 0     \n",
      "-------------------------------------------------\n",
      "23.8 M    Trainable params\n",
      "0         Non-trainable params\n",
      "23.8 M    Total params\n",
      "95.103    Total estimated model params size (MB)\n"
     ]
    },
    {
     "name": "stdout",
     "output_type": "stream",
     "text": [
      "\n",
      "\n",
      "\n",
      "======================================== FOLD 2 / 4 ========================================\n"
     ]
    },
    {
     "data": {
      "application/vnd.jupyter.widget-view+json": {
       "model_id": "",
       "version_major": 2,
       "version_minor": 0
      },
      "text/plain": [
       "Sanity Checking: 0it [00:00, ?it/s]"
      ]
     },
     "metadata": {},
     "output_type": "display_data"
    },
    {
     "data": {
      "application/vnd.jupyter.widget-view+json": {
       "model_id": "21e765b4fca148d99756ffc43b4e914c",
       "version_major": 2,
       "version_minor": 0
      },
      "text/plain": [
       "Training: 0it [00:00, ?it/s]"
      ]
     },
     "metadata": {},
     "output_type": "display_data"
    },
    {
     "data": {
      "application/vnd.jupyter.widget-view+json": {
       "model_id": "",
       "version_major": 2,
       "version_minor": 0
      },
      "text/plain": [
       "Validation: 0it [00:00, ?it/s]"
      ]
     },
     "metadata": {},
     "output_type": "display_data"
    },
    {
     "data": {
      "application/vnd.jupyter.widget-view+json": {
       "model_id": "",
       "version_major": 2,
       "version_minor": 0
      },
      "text/plain": [
       "Validation: 0it [00:00, ?it/s]"
      ]
     },
     "metadata": {},
     "output_type": "display_data"
    },
    {
     "data": {
      "application/vnd.jupyter.widget-view+json": {
       "model_id": "",
       "version_major": 2,
       "version_minor": 0
      },
      "text/plain": [
       "Validation: 0it [00:00, ?it/s]"
      ]
     },
     "metadata": {},
     "output_type": "display_data"
    },
    {
     "data": {
      "application/vnd.jupyter.widget-view+json": {
       "model_id": "",
       "version_major": 2,
       "version_minor": 0
      },
      "text/plain": [
       "Validation: 0it [00:00, ?it/s]"
      ]
     },
     "metadata": {},
     "output_type": "display_data"
    },
    {
     "data": {
      "application/vnd.jupyter.widget-view+json": {
       "model_id": "",
       "version_major": 2,
       "version_minor": 0
      },
      "text/plain": [
       "Validation: 0it [00:00, ?it/s]"
      ]
     },
     "metadata": {},
     "output_type": "display_data"
    },
    {
     "data": {
      "application/vnd.jupyter.widget-view+json": {
       "model_id": "",
       "version_major": 2,
       "version_minor": 0
      },
      "text/plain": [
       "Validation: 0it [00:00, ?it/s]"
      ]
     },
     "metadata": {},
     "output_type": "display_data"
    },
    {
     "data": {
      "application/vnd.jupyter.widget-view+json": {
       "model_id": "",
       "version_major": 2,
       "version_minor": 0
      },
      "text/plain": [
       "Validation: 0it [00:00, ?it/s]"
      ]
     },
     "metadata": {},
     "output_type": "display_data"
    },
    {
     "data": {
      "application/vnd.jupyter.widget-view+json": {
       "model_id": "",
       "version_major": 2,
       "version_minor": 0
      },
      "text/plain": [
       "Validation: 0it [00:00, ?it/s]"
      ]
     },
     "metadata": {},
     "output_type": "display_data"
    },
    {
     "data": {
      "application/vnd.jupyter.widget-view+json": {
       "model_id": "",
       "version_major": 2,
       "version_minor": 0
      },
      "text/plain": [
       "Validation: 0it [00:00, ?it/s]"
      ]
     },
     "metadata": {},
     "output_type": "display_data"
    },
    {
     "data": {
      "application/vnd.jupyter.widget-view+json": {
       "model_id": "",
       "version_major": 2,
       "version_minor": 0
      },
      "text/plain": [
       "Validation: 0it [00:00, ?it/s]"
      ]
     },
     "metadata": {},
     "output_type": "display_data"
    },
    {
     "name": "stderr",
     "output_type": "stream",
     "text": [
      "`Trainer.fit` stopped: `max_epochs=10` reached.\n",
      "LOCAL_RANK: 0 - CUDA_VISIBLE_DEVICES: [0]\n"
     ]
    },
    {
     "data": {
      "application/vnd.jupyter.widget-view+json": {
       "model_id": "6c39e8600c4e4b42901bb8fa01365a77",
       "version_major": 2,
       "version_minor": 0
      },
      "text/plain": [
       "Testing: 0it [00:00, ?it/s]"
      ]
     },
     "metadata": {},
     "output_type": "display_data"
    },
    {
     "name": "stdout",
     "output_type": "stream",
     "text": [
      "────────────────────────────────────────────────────────────────────────────────\n",
      "       Test metric             DataLoader 0\n",
      "────────────────────────────────────────────────────────────────────────────────\n",
      "        test_acc            0.9980713725090027\n",
      "────────────────────────────────────────────────────────────────────────────────\n",
      "Train Loss: 0.0002971006906591356 | Train Accuracy: 1.0\n",
      "Val Loss: 0.007029504049569368 | Val Accuracy: 0.9982315301895142\n"
     ]
    },
    {
     "name": "stderr",
     "output_type": "stream",
     "text": [
      "GPU available: True (cuda), used: True\n",
      "TPU available: False, using: 0 TPU cores\n",
      "IPU available: False, using: 0 IPUs\n",
      "HPU available: False, using: 0 HPUs\n",
      "LOCAL_RANK: 0 - CUDA_VISIBLE_DEVICES: [0]\n",
      "\n",
      "  | Name      | Type               | Params\n",
      "-------------------------------------------------\n",
      "0 | model     | ResNet             | 23.8 M\n",
      "1 | loss_fn   | CrossEntropyLoss   | 0     \n",
      "2 | train_acc | MulticlassAccuracy | 0     \n",
      "3 | val_acc   | MulticlassAccuracy | 0     \n",
      "4 | test_acc  | MulticlassAccuracy | 0     \n",
      "-------------------------------------------------\n",
      "23.8 M    Trainable params\n",
      "0         Non-trainable params\n",
      "23.8 M    Total params\n",
      "95.103    Total estimated model params size (MB)\n"
     ]
    },
    {
     "name": "stdout",
     "output_type": "stream",
     "text": [
      "\n",
      "\n",
      "\n",
      "======================================== FOLD 3 / 4 ========================================\n"
     ]
    },
    {
     "data": {
      "application/vnd.jupyter.widget-view+json": {
       "model_id": "",
       "version_major": 2,
       "version_minor": 0
      },
      "text/plain": [
       "Sanity Checking: 0it [00:00, ?it/s]"
      ]
     },
     "metadata": {},
     "output_type": "display_data"
    },
    {
     "data": {
      "application/vnd.jupyter.widget-view+json": {
       "model_id": "9204b0c4ada1469bb736b7457cb0c78b",
       "version_major": 2,
       "version_minor": 0
      },
      "text/plain": [
       "Training: 0it [00:00, ?it/s]"
      ]
     },
     "metadata": {},
     "output_type": "display_data"
    },
    {
     "data": {
      "application/vnd.jupyter.widget-view+json": {
       "model_id": "",
       "version_major": 2,
       "version_minor": 0
      },
      "text/plain": [
       "Validation: 0it [00:00, ?it/s]"
      ]
     },
     "metadata": {},
     "output_type": "display_data"
    },
    {
     "data": {
      "application/vnd.jupyter.widget-view+json": {
       "model_id": "",
       "version_major": 2,
       "version_minor": 0
      },
      "text/plain": [
       "Validation: 0it [00:00, ?it/s]"
      ]
     },
     "metadata": {},
     "output_type": "display_data"
    },
    {
     "data": {
      "application/vnd.jupyter.widget-view+json": {
       "model_id": "",
       "version_major": 2,
       "version_minor": 0
      },
      "text/plain": [
       "Validation: 0it [00:00, ?it/s]"
      ]
     },
     "metadata": {},
     "output_type": "display_data"
    },
    {
     "data": {
      "application/vnd.jupyter.widget-view+json": {
       "model_id": "",
       "version_major": 2,
       "version_minor": 0
      },
      "text/plain": [
       "Validation: 0it [00:00, ?it/s]"
      ]
     },
     "metadata": {},
     "output_type": "display_data"
    },
    {
     "data": {
      "application/vnd.jupyter.widget-view+json": {
       "model_id": "",
       "version_major": 2,
       "version_minor": 0
      },
      "text/plain": [
       "Validation: 0it [00:00, ?it/s]"
      ]
     },
     "metadata": {},
     "output_type": "display_data"
    },
    {
     "data": {
      "application/vnd.jupyter.widget-view+json": {
       "model_id": "",
       "version_major": 2,
       "version_minor": 0
      },
      "text/plain": [
       "Validation: 0it [00:00, ?it/s]"
      ]
     },
     "metadata": {},
     "output_type": "display_data"
    },
    {
     "data": {
      "application/vnd.jupyter.widget-view+json": {
       "model_id": "",
       "version_major": 2,
       "version_minor": 0
      },
      "text/plain": [
       "Validation: 0it [00:00, ?it/s]"
      ]
     },
     "metadata": {},
     "output_type": "display_data"
    },
    {
     "data": {
      "application/vnd.jupyter.widget-view+json": {
       "model_id": "",
       "version_major": 2,
       "version_minor": 0
      },
      "text/plain": [
       "Validation: 0it [00:00, ?it/s]"
      ]
     },
     "metadata": {},
     "output_type": "display_data"
    },
    {
     "data": {
      "application/vnd.jupyter.widget-view+json": {
       "model_id": "",
       "version_major": 2,
       "version_minor": 0
      },
      "text/plain": [
       "Validation: 0it [00:00, ?it/s]"
      ]
     },
     "metadata": {},
     "output_type": "display_data"
    },
    {
     "name": "stderr",
     "output_type": "stream",
     "text": [
      "LOCAL_RANK: 0 - CUDA_VISIBLE_DEVICES: [0]\n"
     ]
    },
    {
     "data": {
      "application/vnd.jupyter.widget-view+json": {
       "model_id": "83d4c69055a24cafa9056d17b1264e41",
       "version_major": 2,
       "version_minor": 0
      },
      "text/plain": [
       "Testing: 0it [00:00, ?it/s]"
      ]
     },
     "metadata": {},
     "output_type": "display_data"
    },
    {
     "name": "stdout",
     "output_type": "stream",
     "text": [
      "────────────────────────────────────────────────────────────────────────────────\n",
      "       Test metric             DataLoader 0\n",
      "────────────────────────────────────────────────────────────────────────────────\n",
      "        test_acc             0.999035656452179\n",
      "────────────────────────────────────────────────────────────────────────────────\n",
      "Train Loss: 0.00028609790024347603 | Train Accuracy: 0.9999724626541138\n",
      "Val Loss: 0.005856333766132593 | Val Accuracy: 0.9983118772506714\n"
     ]
    },
    {
     "name": "stderr",
     "output_type": "stream",
     "text": [
      "GPU available: True (cuda), used: True\n",
      "TPU available: False, using: 0 TPU cores\n",
      "IPU available: False, using: 0 IPUs\n",
      "HPU available: False, using: 0 HPUs\n",
      "LOCAL_RANK: 0 - CUDA_VISIBLE_DEVICES: [0]\n",
      "\n",
      "  | Name      | Type               | Params\n",
      "-------------------------------------------------\n",
      "0 | model     | ResNet             | 23.8 M\n",
      "1 | loss_fn   | CrossEntropyLoss   | 0     \n",
      "2 | train_acc | MulticlassAccuracy | 0     \n",
      "3 | val_acc   | MulticlassAccuracy | 0     \n",
      "4 | test_acc  | MulticlassAccuracy | 0     \n",
      "-------------------------------------------------\n",
      "23.8 M    Trainable params\n",
      "0         Non-trainable params\n",
      "23.8 M    Total params\n",
      "95.103    Total estimated model params size (MB)\n"
     ]
    },
    {
     "name": "stdout",
     "output_type": "stream",
     "text": [
      "\n",
      "\n",
      "\n",
      "======================================== FOLD 4 / 4 ========================================\n"
     ]
    },
    {
     "data": {
      "application/vnd.jupyter.widget-view+json": {
       "model_id": "",
       "version_major": 2,
       "version_minor": 0
      },
      "text/plain": [
       "Sanity Checking: 0it [00:00, ?it/s]"
      ]
     },
     "metadata": {},
     "output_type": "display_data"
    },
    {
     "data": {
      "application/vnd.jupyter.widget-view+json": {
       "model_id": "a3547e5c6cb34a85946ae9c16ce0dab7",
       "version_major": 2,
       "version_minor": 0
      },
      "text/plain": [
       "Training: 0it [00:00, ?it/s]"
      ]
     },
     "metadata": {},
     "output_type": "display_data"
    },
    {
     "data": {
      "application/vnd.jupyter.widget-view+json": {
       "model_id": "",
       "version_major": 2,
       "version_minor": 0
      },
      "text/plain": [
       "Validation: 0it [00:00, ?it/s]"
      ]
     },
     "metadata": {},
     "output_type": "display_data"
    },
    {
     "data": {
      "application/vnd.jupyter.widget-view+json": {
       "model_id": "",
       "version_major": 2,
       "version_minor": 0
      },
      "text/plain": [
       "Validation: 0it [00:00, ?it/s]"
      ]
     },
     "metadata": {},
     "output_type": "display_data"
    },
    {
     "data": {
      "application/vnd.jupyter.widget-view+json": {
       "model_id": "",
       "version_major": 2,
       "version_minor": 0
      },
      "text/plain": [
       "Validation: 0it [00:00, ?it/s]"
      ]
     },
     "metadata": {},
     "output_type": "display_data"
    },
    {
     "data": {
      "application/vnd.jupyter.widget-view+json": {
       "model_id": "",
       "version_major": 2,
       "version_minor": 0
      },
      "text/plain": [
       "Validation: 0it [00:00, ?it/s]"
      ]
     },
     "metadata": {},
     "output_type": "display_data"
    },
    {
     "data": {
      "application/vnd.jupyter.widget-view+json": {
       "model_id": "",
       "version_major": 2,
       "version_minor": 0
      },
      "text/plain": [
       "Validation: 0it [00:00, ?it/s]"
      ]
     },
     "metadata": {},
     "output_type": "display_data"
    },
    {
     "data": {
      "application/vnd.jupyter.widget-view+json": {
       "model_id": "",
       "version_major": 2,
       "version_minor": 0
      },
      "text/plain": [
       "Validation: 0it [00:00, ?it/s]"
      ]
     },
     "metadata": {},
     "output_type": "display_data"
    },
    {
     "name": "stderr",
     "output_type": "stream",
     "text": [
      "LOCAL_RANK: 0 - CUDA_VISIBLE_DEVICES: [0]\n"
     ]
    },
    {
     "data": {
      "application/vnd.jupyter.widget-view+json": {
       "model_id": "8c6277dd68ba40a895d7937296e61306",
       "version_major": 2,
       "version_minor": 0
      },
      "text/plain": [
       "Testing: 0it [00:00, ?it/s]"
      ]
     },
     "metadata": {},
     "output_type": "display_data"
    },
    {
     "name": "stdout",
     "output_type": "stream",
     "text": [
      "────────────────────────────────────────────────────────────────────────────────\n",
      "       Test metric             DataLoader 0\n",
      "────────────────────────────────────────────────────────────────────────────────\n",
      "        test_acc            0.9993571043014526\n",
      "────────────────────────────────────────────────────────────────────────────────\n",
      "Train Loss: 0.0001943597017088905 | Train Accuracy: 1.0\n",
      "Val Loss: 0.004916341044008732 | Val Accuracy: 0.9986334443092346\n"
     ]
    }
   ],
   "source": [
    "device = torch.device(\"cuda:0\")\n",
    "num_folds = 4\n",
    "kf = StratifiedKFold(num_folds)\n",
    "lr = 3e-4\n",
    "logs = dict()\n",
    "\n",
    "for fold, (train_fold, val_fold) in enumerate(kf.split(X=x_train, y=y_train), start=1):\n",
    "    train_dataloader = torch.utils.data.DataLoader(tensor_dataset_train,batch_size=64,num_workers=8)\n",
    "    val_dataloader = torch.utils.data.DataLoader(tensor_dataset_val, batch_size=64,num_workers=8)\n",
    "    test_dataloader = torch.utils.data.DataLoader(tensor_dataset_test, batch_size=128, num_workers=8)\n",
    "    \n",
    "    model = ResNet50Model(num_classes=43, freeze=False)\n",
    "    trainer = pl.Trainer(accelerator='gpu', \n",
    "                         max_epochs=10,\n",
    "                         callbacks=[\n",
    "                         EarlyStopping(monitor=\"val_loss\", \n",
    "                                       mode=\"min\",\n",
    "                                       patience=2)])\n",
    "    \n",
    "    model.hparams.lr = lr\n",
    "    \n",
    "    print(f\"\\n\\n\\n{'=='*20} FOLD {fold} / {num_folds} {'=='*20}\")\n",
    "    \n",
    "    trainer.fit(model, train_dataloader, val_dataloader)\n",
    "    metrics = trainer.logged_metrics\n",
    "    trainer.test(model, test_dataloader)\n",
    "    \n",
    "    logs[f'fold{fold}'] = {\n",
    "        'train_loss': metrics['train_loss_epoch'].item(),\n",
    "        'val_loss': metrics['val_loss'].item(),\n",
    "        'train_acc': metrics['train_acc_epoch'].item(),\n",
    "        'val_acc': metrics['val_acc'].item()\n",
    "    }\n",
    "    \n",
    "    print(f\"Train Loss: {logs[f'fold{fold}']['train_loss']} | Train Accuracy: {logs[f'fold{fold}']['train_acc']}\")\n",
    "    print(f\"Val Loss: {logs[f'fold{fold}']['val_loss']} | Val Accuracy: {logs[f'fold{fold}']['val_acc']}\")"
   ]
  },
  {
   "cell_type": "markdown",
   "metadata": {},
   "source": [
    "freeze=True"
   ]
  },
  {
   "cell_type": "code",
   "execution_count": null,
   "metadata": {},
   "outputs": [],
   "source": [
    "device = torch.device(\"cuda:0\")\n",
    "num_folds = 4\n",
    "kf = StratifiedKFold(num_folds)\n",
    "lr = 3e-4\n",
    "logs = dict()\n",
    "\n",
    "for fold, (train_fold, val_fold) in enumerate(kf.split(X=x_train, y=y_train), start=1):\n",
    "    train_dataloader = torch.utils.data.DataLoader(tensor_dataset_train,batch_size=64,num_workers=8)\n",
    "    val_dataloader = torch.utils.data.DataLoader(tensor_dataset_val, batch_size=64,num_workers=8)\n",
    "    test_dataloader = torch.utils.data.DataLoader(tensor_dataset_test, batch_size=128, num_workers=8)\n",
    "    \n",
    "    model = ResNet50Model(num_classes=43, freeze=True)\n",
    "    trainer = pl.Trainer(accelerator='gpu', \n",
    "                         max_epochs=10,\n",
    "                         callbacks=[\n",
    "                         EarlyStopping(monitor=\"val_loss\", \n",
    "                                       mode=\"min\",\n",
    "                                       patience=2)])\n",
    "    \n",
    "    model.hparams.lr = lr\n",
    "    \n",
    "    print(f\"\\n\\n\\n{'=='*20} FOLD {fold} / {num_folds} {'=='*20}\")\n",
    "    \n",
    "    trainer.fit(model, train_dataloader, val_dataloader)\n",
    "    metrics = trainer.logged_metrics\n",
    "    trainer.test(model, test_dataloader)\n",
    "    \n",
    "    logs[f'fold{fold}'] = {\n",
    "        'train_loss': metrics['train_loss_epoch'].item(),\n",
    "        'val_loss': metrics['val_loss'].item(),\n",
    "        'train_acc': metrics['train_acc_epoch'].item(),\n",
    "        'val_acc': metrics['val_acc'].item()\n",
    "    }\n",
    "    \n",
    "    print(f\"Train Loss: {logs[f'fold{fold}']['train_loss']} | Train Accuracy: {logs[f'fold{fold}']['train_acc']}\")\n",
    "    print(f\"Val Loss: {logs[f'fold{fold}']['val_loss']} | Val Accuracy: {logs[f'fold{fold}']['val_acc']}\")"
   ]
  },
  {
   "cell_type": "code",
   "execution_count": 7,
   "metadata": {},
   "outputs": [
    {
     "data": {
      "text/plain": [
       "torch.Size([64, 3, 7, 7])"
      ]
     },
     "execution_count": 7,
     "metadata": {},
     "output_type": "execute_result"
    }
   ],
   "source": [
    "first_parameter = next(model.parameters())\n",
    "input_shape = first_parameter.size()\n",
    "input_shape"
   ]
  },
  {
   "cell_type": "markdown",
   "metadata": {
    "id": "68eGKyM132xk"
   },
   "source": [
    "*TODO: omówienie (100 słów)*"
   ]
  },
  {
   "cell_type": "markdown",
   "metadata": {},
   "source": [
    "omówienie will be here..."
   ]
  },
  {
   "cell_type": "markdown",
   "metadata": {},
   "source": [
    "### Zadanie 3: Trening od zera i porównanie ###\n",
    "**(Zadanie na ocenę 5, po wykonaniu zadania 1 i 2)**\n",
    "\n",
    "Spróbuj skonstruować swój własny model i wytrenować go 'od zera' na tych samych danych. Porównaj i omów swój ekeperyment i wyniki (100 słów).\n",
    "\n",
    "reference: https://keras.io/api/applications/#usage-examples-for-image-classification-models"
   ]
  },
  {
   "cell_type": "code",
   "execution_count": 1,
   "metadata": {},
   "outputs": [],
   "source": [
    "import h5py\n",
    "filename = \"dataset_ts_original.hdf5\"\n",
    "\n",
    "with h5py.File(filename, \"r\") as f:\n",
    "    x_test = f['x_test'][()]\n",
    "    x_train = f['x_train'][()]\n",
    "    y_test = f['y_test'][()]\n",
    "    y_train = f['y_train'][()]\n",
    "    x_validation = f['x_validation'][()]\n",
    "    y_validation = f['y_validation'][()]"
   ]
  },
  {
   "cell_type": "code",
   "execution_count": 3,
   "metadata": {},
   "outputs": [],
   "source": [
    "import pandas as pd\n",
    "y_train = pd.get_dummies(y_train).to_numpy()\n",
    "y_validation = pd.get_dummies(y_validation).to_numpy()\n",
    "y_test = pd.get_dummies(y_test).to_numpy()"
   ]
  },
  {
   "cell_type": "code",
   "execution_count": 10,
   "metadata": {},
   "outputs": [],
   "source": [
    "from tensorflow.keras.models import Sequential\n",
    "from tensorflow.keras.layers import Conv2D, Dense, Flatten, Dropout, Activation\n",
    "from tensorflow.keras.layers import MaxPooling2D\n",
    "\n",
    "cnn_model = Sequential([\n",
    "    Conv2D(filters=32, kernel_size=3, activation='relu', input_shape=x_train[0].shape),\n",
    "    MaxPooling2D(pool_size=2),\n",
    "    Conv2D(filters=16, kernel_size=3),\n",
    "    MaxPooling2D(pool_size=2),\n",
    "    Dropout(0.2),\n",
    "    Flatten(),\n",
    "    Dense(150, activation='relu'),\n",
    "    Dense(100,activation='relu'),\n",
    "    Dense(43,activation = 'softmax'),    \n",
    "])"
   ]
  },
  {
   "cell_type": "code",
   "execution_count": 11,
   "metadata": {},
   "outputs": [],
   "source": [
    "from keras.optimizers import Adam\n",
    "from keras.losses import categorical_crossentropy\n",
    "\n",
    "cnn_model.compile(loss='categorical_crossentropy', optimizer=Adam(lr=0.001), metrics =['accuracy'])"
   ]
  },
  {
   "cell_type": "code",
   "execution_count": 12,
   "metadata": {},
   "outputs": [],
   "source": [
    "from tensorflow.keras.callbacks import EarlyStopping, ModelCheckpoint\n",
    "\n",
    "\n",
    "callbacks = [EarlyStopping(monitor='val_loss', patience=15),\n",
    "             ModelCheckpoint(filepath='best_model.h5', monitor='val_loss', save_best_only=True)]"
   ]
  },
  {
   "cell_type": "code",
   "execution_count": 13,
   "metadata": {},
   "outputs": [
    {
     "name": "stdout",
     "output_type": "stream",
     "text": [
      "Epoch 1/75\n",
      "233/233 [==============================] - 11s 28ms/step - loss: 3.3748 - accuracy: 0.5381 - val_loss: 0.6167 - val_accuracy: 0.8361\n",
      "Epoch 2/75\n",
      "233/233 [==============================] - 5s 20ms/step - loss: 0.5054 - accuracy: 0.8694 - val_loss: 0.3109 - val_accuracy: 0.9238\n",
      "Epoch 3/75\n",
      "233/233 [==============================] - 5s 21ms/step - loss: 0.2822 - accuracy: 0.9284 - val_loss: 0.2171 - val_accuracy: 0.9473\n",
      "Epoch 4/75\n",
      "233/233 [==============================] - 5s 20ms/step - loss: 0.1915 - accuracy: 0.9517 - val_loss: 0.1673 - val_accuracy: 0.9634\n",
      "Epoch 5/75\n",
      "233/233 [==============================] - 5s 20ms/step - loss: 0.1473 - accuracy: 0.9625 - val_loss: 0.1429 - val_accuracy: 0.9675\n",
      "Epoch 6/75\n",
      "233/233 [==============================] - 5s 20ms/step - loss: 0.1211 - accuracy: 0.9679 - val_loss: 0.1321 - val_accuracy: 0.9707\n",
      "Epoch 7/75\n",
      "233/233 [==============================] - 5s 20ms/step - loss: 0.1039 - accuracy: 0.9732 - val_loss: 0.1333 - val_accuracy: 0.9719\n",
      "Epoch 8/75\n",
      "233/233 [==============================] - 5s 20ms/step - loss: 0.0889 - accuracy: 0.9767 - val_loss: 0.1128 - val_accuracy: 0.9758\n",
      "Epoch 9/75\n",
      "233/233 [==============================] - 5s 20ms/step - loss: 0.0886 - accuracy: 0.9771 - val_loss: 0.1305 - val_accuracy: 0.9771\n",
      "Epoch 10/75\n",
      "233/233 [==============================] - 5s 20ms/step - loss: 0.0694 - accuracy: 0.9816 - val_loss: 0.1326 - val_accuracy: 0.9755\n",
      "Epoch 11/75\n",
      "233/233 [==============================] - 5s 20ms/step - loss: 0.0696 - accuracy: 0.9824 - val_loss: 0.1391 - val_accuracy: 0.9724\n",
      "Epoch 12/75\n",
      "233/233 [==============================] - 5s 20ms/step - loss: 0.0635 - accuracy: 0.9826 - val_loss: 0.1159 - val_accuracy: 0.9756\n",
      "Epoch 13/75\n",
      "233/233 [==============================] - 5s 20ms/step - loss: 0.0650 - accuracy: 0.9833 - val_loss: 0.1393 - val_accuracy: 0.9758\n",
      "Epoch 14/75\n",
      "233/233 [==============================] - 5s 20ms/step - loss: 0.0851 - accuracy: 0.9794 - val_loss: 0.1509 - val_accuracy: 0.9773\n",
      "Epoch 15/75\n",
      "233/233 [==============================] - 5s 20ms/step - loss: 0.0690 - accuracy: 0.9830 - val_loss: 0.1384 - val_accuracy: 0.9740\n",
      "Epoch 16/75\n",
      "233/233 [==============================] - 5s 20ms/step - loss: 0.0562 - accuracy: 0.9851 - val_loss: 0.0969 - val_accuracy: 0.9843\n",
      "Epoch 17/75\n",
      "233/233 [==============================] - 5s 20ms/step - loss: 0.0460 - accuracy: 0.9890 - val_loss: 0.1161 - val_accuracy: 0.9827\n",
      "Epoch 18/75\n",
      "233/233 [==============================] - 5s 20ms/step - loss: 0.0518 - accuracy: 0.9883 - val_loss: 0.1722 - val_accuracy: 0.9772\n",
      "Epoch 19/75\n",
      "233/233 [==============================] - 5s 20ms/step - loss: 0.0742 - accuracy: 0.9827 - val_loss: 0.1693 - val_accuracy: 0.9760\n",
      "Epoch 20/75\n",
      "233/233 [==============================] - 5s 20ms/step - loss: 0.0585 - accuracy: 0.9877 - val_loss: 0.1501 - val_accuracy: 0.9820\n",
      "Epoch 21/75\n",
      "233/233 [==============================] - 5s 20ms/step - loss: 0.0400 - accuracy: 0.9904 - val_loss: 0.1127 - val_accuracy: 0.9847\n",
      "Epoch 22/75\n",
      "233/233 [==============================] - 5s 20ms/step - loss: 0.0422 - accuracy: 0.9901 - val_loss: 0.1450 - val_accuracy: 0.9802\n",
      "Epoch 23/75\n",
      "233/233 [==============================] - 5s 20ms/step - loss: 0.0318 - accuracy: 0.9918 - val_loss: 0.1029 - val_accuracy: 0.9858\n",
      "Epoch 24/75\n",
      "233/233 [==============================] - 5s 20ms/step - loss: 0.0741 - accuracy: 0.9849 - val_loss: 0.1393 - val_accuracy: 0.9790\n",
      "Epoch 25/75\n",
      "233/233 [==============================] - 5s 20ms/step - loss: 0.0718 - accuracy: 0.9854 - val_loss: 0.1600 - val_accuracy: 0.9741\n",
      "Epoch 26/75\n",
      "233/233 [==============================] - 5s 20ms/step - loss: 0.0567 - accuracy: 0.9880 - val_loss: 0.1124 - val_accuracy: 0.9831\n",
      "Epoch 27/75\n",
      "233/233 [==============================] - 5s 20ms/step - loss: 0.0314 - accuracy: 0.9927 - val_loss: 0.0935 - val_accuracy: 0.9868\n",
      "Epoch 28/75\n",
      "233/233 [==============================] - 5s 20ms/step - loss: 0.0405 - accuracy: 0.9902 - val_loss: 0.1365 - val_accuracy: 0.9836\n",
      "Epoch 29/75\n",
      "233/233 [==============================] - 5s 20ms/step - loss: 0.0435 - accuracy: 0.9907 - val_loss: 0.1255 - val_accuracy: 0.9833\n",
      "Epoch 30/75\n",
      "233/233 [==============================] - 5s 20ms/step - loss: 0.0408 - accuracy: 0.9911 - val_loss: 0.1699 - val_accuracy: 0.9767\n",
      "Epoch 31/75\n",
      "233/233 [==============================] - 5s 20ms/step - loss: 0.0545 - accuracy: 0.9889 - val_loss: 0.1329 - val_accuracy: 0.9850\n",
      "Epoch 32/75\n",
      "233/233 [==============================] - 5s 20ms/step - loss: 0.0286 - accuracy: 0.9923 - val_loss: 0.1266 - val_accuracy: 0.9857\n",
      "Epoch 33/75\n",
      "233/233 [==============================] - 5s 20ms/step - loss: 0.0396 - accuracy: 0.9916 - val_loss: 0.1331 - val_accuracy: 0.9822\n",
      "Epoch 34/75\n",
      "233/233 [==============================] - 5s 20ms/step - loss: 0.0480 - accuracy: 0.9900 - val_loss: 0.1866 - val_accuracy: 0.9757\n",
      "Epoch 35/75\n",
      "233/233 [==============================] - 5s 20ms/step - loss: 0.0446 - accuracy: 0.9906 - val_loss: 0.1256 - val_accuracy: 0.9859\n",
      "Epoch 36/75\n",
      "233/233 [==============================] - 5s 20ms/step - loss: 0.0437 - accuracy: 0.9917 - val_loss: 0.1582 - val_accuracy: 0.9833\n",
      "Epoch 37/75\n",
      "233/233 [==============================] - 5s 20ms/step - loss: 0.0585 - accuracy: 0.9891 - val_loss: 0.1638 - val_accuracy: 0.9835\n",
      "Epoch 38/75\n",
      "233/233 [==============================] - 5s 20ms/step - loss: 0.0593 - accuracy: 0.9897 - val_loss: 0.2025 - val_accuracy: 0.9756\n",
      "Epoch 39/75\n",
      "233/233 [==============================] - 5s 20ms/step - loss: 0.0382 - accuracy: 0.9921 - val_loss: 0.1235 - val_accuracy: 0.9876\n",
      "Epoch 40/75\n",
      "233/233 [==============================] - 5s 20ms/step - loss: 0.0322 - accuracy: 0.9937 - val_loss: 0.1616 - val_accuracy: 0.9830\n",
      "Epoch 41/75\n",
      "233/233 [==============================] - 5s 20ms/step - loss: 0.0253 - accuracy: 0.9948 - val_loss: 0.1398 - val_accuracy: 0.9871\n",
      "Epoch 42/75\n",
      "233/233 [==============================] - 5s 20ms/step - loss: 0.0326 - accuracy: 0.9937 - val_loss: 0.1614 - val_accuracy: 0.9811\n"
     ]
    }
   ],
   "source": [
    "history = cnn_model.fit(\n",
    "    x_train,\n",
    "    y_train,\n",
    "    batch_size=156,\n",
    "    epochs=75,\n",
    "    verbose=1,\n",
    "    validation_data=(x_validation,y_validation),\n",
    "    callbacks=callbacks\n",
    ")"
   ]
  },
  {
   "cell_type": "code",
   "execution_count": 18,
   "metadata": {},
   "outputs": [
    {
     "data": {
      "text/plain": [
       "dict_keys(['loss', 'accuracy', 'val_loss', 'val_accuracy'])"
      ]
     },
     "execution_count": 18,
     "metadata": {},
     "output_type": "execute_result"
    }
   ],
   "source": [
    "history.history.keys()"
   ]
  },
  {
   "cell_type": "code",
   "execution_count": 19,
   "metadata": {},
   "outputs": [
    {
     "data": {
      "text/plain": [
       "Text(0.5, 1.0, 'Train - Accuracy')"
      ]
     },
     "execution_count": 19,
     "metadata": {},
     "output_type": "execute_result"
    },
    {
     "data": {
      "image/png": "[encoded data removed]",
      "text/plain": [
       "<Figure size 720x720 with 2 Axes>"
      ]
     },
     "metadata": {
      "needs_background": "light"
     },
     "output_type": "display_data"
    }
   ],
   "source": [
    "import matplotlib.pyplot as plt\n",
    "plt.figure(figsize=(10, 10))\n",
    "\n",
    "plt.subplot(2, 2, 1)\n",
    "plt.plot(history.history['loss'], label='Loss')\n",
    "plt.plot(history.history['val_loss'], label='Validation Loss')\n",
    "plt.legend()\n",
    "plt.title('Train - Loss Function')\n",
    "\n",
    "plt.subplot(2, 2, 2)\n",
    "plt.plot(history.history['accuracy'], label='Accuracy')\n",
    "plt.plot(history.history['val_accuracy'], label='Validation Accuracy')\n",
    "plt.legend()\n",
    "plt.title('Train - Accuracy')"
   ]
  },
  {
   "cell_type": "code",
   "execution_count": 20,
   "metadata": {},
   "outputs": [
    {
     "name": "stdout",
     "output_type": "stream",
     "text": [
      "Test Loss : 0.1542\n",
      "Test Accuracy : 0.9826\n"
     ]
    }
   ],
   "source": [
    "score = cnn_model.evaluate(x_test,y_test,verbose=0)\n",
    "print('Test Loss : {:.4f}'.format(score[0]))\n",
    "print('Test Accuracy : {:.4f}'.format(score[1]))"
   ]
  },
  {
   "cell_type": "markdown",
   "metadata": {},
   "source": [
    "omówienie will be here..."
   ]
  },
  {
   "cell_type": "markdown",
   "metadata": {},
   "source": [
    "### Let's try transformers"
   ]
  },
  {
   "cell_type": "markdown",
   "metadata": {},
   "source": [
    "https://keras.io/examples/vision/vit_small_ds/#build-the-vit   \n",
    "https://arxiv.org/abs/2112.13492v1"
   ]
  },
  {
   "cell_type": "code",
   "execution_count": 1,
   "metadata": {},
   "outputs": [],
   "source": [
    "import math\n",
    "import numpy as np\n",
    "import tensorflow as tf\n",
    "from tensorflow import keras\n",
    "import tensorflow_addons as tfa\n",
    "import matplotlib.pyplot as plt\n",
    "from tensorflow.keras import layers"
   ]
  },
  {
   "cell_type": "code",
   "execution_count": 2,
   "metadata": {},
   "outputs": [],
   "source": [
    "NUM_CLASSES = 43\n",
    "INPUT_SHAPE = (48, 48, 3)\n",
    "\n",
    "import h5py\n",
    "filename = \"dataset_ts_original.hdf5\"\n",
    "\n",
    "with h5py.File(filename, \"r\") as f: \n",
    "    x_test = f['x_test'][()].astype('float32')\n",
    "    x_train = f['x_train'][()].astype('float32')\n",
    "    y_test = f['y_test'][()].astype('float32')\n",
    "    y_train = f['y_train'][()].astype('float32')\n",
    "    x_validation = f['x_validation'][()].astype('float32')\n",
    "    y_validation = f['y_validation'][()].astype('float32')"
   ]
  },
  {
   "cell_type": "code",
   "execution_count": 17,
   "metadata": {},
   "outputs": [],
   "source": [
    "# DATA\n",
    "BUFFER_SIZE = 128\n",
    "BATCH_SIZE = 16\n",
    "\n",
    "# AUGMENTATION\n",
    "IMAGE_SIZE = 48\n",
    "PATCH_SIZE = 6\n",
    "NUM_PATCHES = (IMAGE_SIZE // PATCH_SIZE) ** 2\n",
    "\n",
    "# OPTIMIZER\n",
    "LEARNING_RATE = 0.001\n",
    "WEIGHT_DECAY = 0.0001\n",
    "\n",
    "# TRAINING\n",
    "EPOCHS = 50\n",
    "\n",
    "# ARCHITECTURE\n",
    "LAYER_NORM_EPS = 1e-6\n",
    "TRANSFORMER_LAYERS = 8\n",
    "PROJECTION_DIM = 64\n",
    "NUM_HEADS = 4\n",
    "TRANSFORMER_UNITS = [\n",
    "    PROJECTION_DIM * 2,\n",
    "    PROJECTION_DIM,\n",
    "]\n",
    "MLP_HEAD_UNITS = [2048, 1024]\n"
   ]
  },
  {
   "cell_type": "code",
   "execution_count": 5,
   "metadata": {},
   "outputs": [],
   "source": [
    "data_augmentation = keras.Sequential(\n",
    "    [\n",
    "        layers.Normalization(),\n",
    "        layers.Resizing(IMAGE_SIZE, IMAGE_SIZE),\n",
    "        layers.RandomFlip(\"horizontal\"),\n",
    "        layers.RandomRotation(factor=0.02),\n",
    "        layers.RandomZoom(height_factor=0.2, width_factor=0.2),\n",
    "    ],\n",
    "    name=\"data_augmentation\",\n",
    ")\n",
    "# Compute the mean and the variance of the training data for normalization.\n",
    "data_augmentation.layers[0].adapt(x_train)\n"
   ]
  },
  {
   "cell_type": "code",
   "execution_count": 6,
   "metadata": {},
   "outputs": [],
   "source": [
    "class ShiftedPatchTokenization(layers.Layer):\n",
    "    def __init__(\n",
    "        self,\n",
    "        image_size=IMAGE_SIZE,\n",
    "        patch_size=PATCH_SIZE,\n",
    "        num_patches=NUM_PATCHES,\n",
    "        projection_dim=PROJECTION_DIM,\n",
    "        vanilla=False,\n",
    "        **kwargs,\n",
    "    ):\n",
    "        super().__init__(**kwargs)\n",
    "        self.vanilla = vanilla  # Flag to swtich to vanilla patch extractor\n",
    "        self.image_size = image_size\n",
    "        self.patch_size = patch_size\n",
    "        self.half_patch = patch_size // 2\n",
    "        self.flatten_patches = layers.Reshape((num_patches, -1))\n",
    "        self.projection = layers.Dense(units=projection_dim)\n",
    "        self.layer_norm = layers.LayerNormalization(epsilon=LAYER_NORM_EPS)\n",
    "\n",
    "    def crop_shift_pad(self, images, mode):\n",
    "        # Build the diagonally shifted images\n",
    "        if mode == \"left-up\":\n",
    "            crop_height = self.half_patch\n",
    "            crop_width = self.half_patch\n",
    "            shift_height = 0\n",
    "            shift_width = 0\n",
    "        elif mode == \"left-down\":\n",
    "            crop_height = 0\n",
    "            crop_width = self.half_patch\n",
    "            shift_height = self.half_patch\n",
    "            shift_width = 0\n",
    "        elif mode == \"right-up\":\n",
    "            crop_height = self.half_patch\n",
    "            crop_width = 0\n",
    "            shift_height = 0\n",
    "            shift_width = self.half_patch\n",
    "        else:\n",
    "            crop_height = 0\n",
    "            crop_width = 0\n",
    "            shift_height = self.half_patch\n",
    "            shift_width = self.half_patch\n",
    "\n",
    "        # Crop the shifted images and pad them\n",
    "        crop = tf.image.crop_to_bounding_box(\n",
    "            images,\n",
    "            offset_height=crop_height,\n",
    "            offset_width=crop_width,\n",
    "            target_height=self.image_size - self.half_patch,\n",
    "            target_width=self.image_size - self.half_patch,\n",
    "        )\n",
    "        shift_pad = tf.image.pad_to_bounding_box(\n",
    "            crop,\n",
    "            offset_height=shift_height,\n",
    "            offset_width=shift_width,\n",
    "            target_height=self.image_size,\n",
    "            target_width=self.image_size,\n",
    "        )\n",
    "        return shift_pad\n",
    "\n",
    "    def call(self, images):\n",
    "        if not self.vanilla:\n",
    "            # Concat the shifted images with the original image\n",
    "            images = tf.concat(\n",
    "                [\n",
    "                    images,\n",
    "                    self.crop_shift_pad(images, mode=\"left-up\"),\n",
    "                    self.crop_shift_pad(images, mode=\"left-down\"),\n",
    "                    self.crop_shift_pad(images, mode=\"right-up\"),\n",
    "                    self.crop_shift_pad(images, mode=\"right-down\"),\n",
    "                ],\n",
    "                axis=-1,\n",
    "            )\n",
    "        # Patchify the images and flatten it\n",
    "        patches = tf.image.extract_patches(\n",
    "            images=images,\n",
    "            sizes=[1, self.patch_size, self.patch_size, 1],\n",
    "            strides=[1, self.patch_size, self.patch_size, 1],\n",
    "            rates=[1, 1, 1, 1],\n",
    "            padding=\"VALID\",\n",
    "        )\n",
    "        flat_patches = self.flatten_patches(patches)\n",
    "        if not self.vanilla:\n",
    "            # Layer normalize the flat patches and linearly project it\n",
    "            tokens = self.layer_norm(flat_patches)\n",
    "            tokens = self.projection(tokens)\n",
    "        else:\n",
    "            # Linearly project the flat patches\n",
    "            tokens = self.projection(flat_patches)\n",
    "        return (tokens, patches)\n"
   ]
  },
  {
   "cell_type": "code",
   "execution_count": 7,
   "metadata": {},
   "outputs": [],
   "source": [
    "class PatchEncoder(layers.Layer):\n",
    "    def __init__(\n",
    "        self, num_patches=NUM_PATCHES, projection_dim=PROJECTION_DIM, **kwargs\n",
    "    ):\n",
    "        super().__init__(**kwargs)\n",
    "        self.num_patches = num_patches\n",
    "        self.position_embedding = layers.Embedding(\n",
    "            input_dim=num_patches, output_dim=projection_dim\n",
    "        )\n",
    "        self.positions = tf.range(start=0, limit=self.num_patches, delta=1)\n",
    "\n",
    "    def call(self, encoded_patches):\n",
    "        encoded_positions = self.position_embedding(self.positions)\n",
    "        encoded_patches = encoded_patches + encoded_positions\n",
    "        return encoded_patches\n"
   ]
  },
  {
   "cell_type": "code",
   "execution_count": 8,
   "metadata": {},
   "outputs": [],
   "source": [
    "class MultiHeadAttentionLSA(tf.keras.layers.MultiHeadAttention):\n",
    "    def __init__(self, **kwargs):\n",
    "        super().__init__(**kwargs)\n",
    "        # The trainable temperature term. The initial value is\n",
    "        # the square root of the key dimension.\n",
    "        self.tau = tf.Variable(math.sqrt(float(self._key_dim)), trainable=True)\n",
    "\n",
    "    def _compute_attention(self, query, key, value, attention_mask=None, training=None):\n",
    "        query = tf.multiply(query, 1.0 / self.tau)\n",
    "        attention_scores = tf.einsum(self._dot_product_equation, key, query)\n",
    "        attention_scores = self._masked_softmax(attention_scores, attention_mask)\n",
    "        attention_scores_dropout = self._dropout_layer(\n",
    "            attention_scores, training=training\n",
    "        )\n",
    "        attention_output = tf.einsum(\n",
    "            self._combine_equation, attention_scores_dropout, value\n",
    "        )\n",
    "        return attention_output, attention_scores\n"
   ]
  },
  {
   "cell_type": "code",
   "execution_count": 9,
   "metadata": {},
   "outputs": [],
   "source": [
    "def mlp(x, hidden_units, dropout_rate):\n",
    "    for units in hidden_units:\n",
    "        x = layers.Dense(units, activation=tf.nn.gelu)(x)\n",
    "        x = layers.Dropout(dropout_rate)(x)\n",
    "    return x\n",
    "\n",
    "\n",
    "# Build the diagonal attention mask\n",
    "diag_attn_mask = 1 - tf.eye(NUM_PATCHES)\n",
    "diag_attn_mask = tf.cast([diag_attn_mask], dtype=tf.int8)\n"
   ]
  },
  {
   "cell_type": "code",
   "execution_count": 10,
   "metadata": {},
   "outputs": [],
   "source": [
    "def create_vit_classifier(vanilla=False):\n",
    "    inputs = layers.Input(shape=INPUT_SHAPE)\n",
    "    # Augment data.\n",
    "    augmented = data_augmentation(inputs)\n",
    "    # Create patches.\n",
    "    (tokens, _) = ShiftedPatchTokenization(vanilla=vanilla)(augmented)\n",
    "    # Encode patches.\n",
    "    encoded_patches = PatchEncoder()(tokens)\n",
    "\n",
    "    # Create multiple layers of the Transformer block.\n",
    "    for _ in range(TRANSFORMER_LAYERS):\n",
    "        # Layer normalization 1.\n",
    "        x1 = layers.LayerNormalization(epsilon=1e-6)(encoded_patches)\n",
    "        # Create a multi-head attention layer.\n",
    "        if not vanilla:\n",
    "            attention_output = MultiHeadAttentionLSA(\n",
    "                num_heads=NUM_HEADS, key_dim=PROJECTION_DIM, dropout=0.1\n",
    "            )(x1, x1, attention_mask=diag_attn_mask)\n",
    "        else:\n",
    "            attention_output = layers.MultiHeadAttention(\n",
    "                num_heads=NUM_HEADS, key_dim=PROJECTION_DIM, dropout=0.1\n",
    "            )(x1, x1)\n",
    "        # Skip connection 1.\n",
    "        x2 = layers.Add()([attention_output, encoded_patches])\n",
    "        # Layer normalization 2.\n",
    "        x3 = layers.LayerNormalization(epsilon=1e-6)(x2)\n",
    "        # MLP.\n",
    "        x3 = mlp(x3, hidden_units=TRANSFORMER_UNITS, dropout_rate=0.1)\n",
    "        # Skip connection 2.\n",
    "        encoded_patches = layers.Add()([x3, x2])\n",
    "\n",
    "    # Create a [batch_size, projection_dim] tensor.\n",
    "    representation = layers.LayerNormalization(epsilon=1e-6)(encoded_patches)\n",
    "    representation = layers.Flatten()(representation)\n",
    "    representation = layers.Dropout(0.5)(representation)\n",
    "    # Add MLP.\n",
    "    features = mlp(representation, hidden_units=MLP_HEAD_UNITS, dropout_rate=0.5)\n",
    "    # Classify outputs.\n",
    "    logits = layers.Dense(NUM_CLASSES)(features)\n",
    "    # Create the Keras model.\n",
    "    model = keras.Model(inputs=inputs, outputs=logits)\n",
    "    return model\n"
   ]
  },
  {
   "cell_type": "code",
   "execution_count": 13,
   "metadata": {},
   "outputs": [],
   "source": [
    "# Some code is taken from:\n",
    "# https://www.kaggle.com/ashusma/training-rfcx-tensorflow-tpu-effnet-b2.\n",
    "class WarmUpCosine(keras.optimizers.schedules.LearningRateSchedule):\n",
    "    def __init__(\n",
    "        self, learning_rate_base, total_steps, warmup_learning_rate, warmup_steps\n",
    "    ):\n",
    "        super(WarmUpCosine, self).__init__()\n",
    "\n",
    "        self.learning_rate_base = learning_rate_base\n",
    "        self.total_steps = total_steps\n",
    "        self.warmup_learning_rate = warmup_learning_rate\n",
    "        self.warmup_steps = warmup_steps\n",
    "        self.pi = tf.constant(np.pi)\n",
    "\n",
    "    def __call__(self, step):\n",
    "        if self.total_steps < self.warmup_steps:\n",
    "            raise ValueError(\"Total_steps must be larger or equal to warmup_steps.\")\n",
    "\n",
    "        cos_annealed_lr = tf.cos(\n",
    "            self.pi\n",
    "            * (tf.cast(step, tf.float32) - self.warmup_steps)\n",
    "            / float(self.total_steps - self.warmup_steps)\n",
    "        )\n",
    "        learning_rate = 0.5 * self.learning_rate_base * (1 + cos_annealed_lr)\n",
    "\n",
    "        if self.warmup_steps > 0:\n",
    "            if self.learning_rate_base < self.warmup_learning_rate:\n",
    "                raise ValueError(\n",
    "                    \"Learning_rate_base must be larger or equal to \"\n",
    "                    \"warmup_learning_rate.\"\n",
    "                )\n",
    "            slope = (\n",
    "                self.learning_rate_base - self.warmup_learning_rate\n",
    "            ) / self.warmup_steps\n",
    "            warmup_rate = slope * tf.cast(step, tf.float32) + self.warmup_learning_rate\n",
    "            learning_rate = tf.where(\n",
    "                step < self.warmup_steps, warmup_rate, learning_rate\n",
    "            )\n",
    "        return tf.where(\n",
    "            step > self.total_steps, 0.0, learning_rate, name=\"learning_rate\"\n",
    "        )\n",
    "\n",
    "\n",
    "def run_experiment(model):\n",
    "    total_steps = int((len(x_train) / BATCH_SIZE) * EPOCHS)\n",
    "    warmup_epoch_percentage = 0.10\n",
    "    warmup_steps = int(total_steps * warmup_epoch_percentage)\n",
    "    scheduled_lrs = WarmUpCosine(\n",
    "        learning_rate_base=LEARNING_RATE,\n",
    "        total_steps=total_steps,\n",
    "        warmup_learning_rate=0.0,\n",
    "        warmup_steps=warmup_steps,\n",
    "    )\n",
    "\n",
    "    optimizer = tfa.optimizers.AdamW(\n",
    "        learning_rate=LEARNING_RATE, weight_decay=WEIGHT_DECAY\n",
    "    )\n",
    "\n",
    "    model.compile(\n",
    "        optimizer=optimizer,\n",
    "        loss=keras.losses.SparseCategoricalCrossentropy(from_logits=True),\n",
    "        metrics=[\n",
    "            keras.metrics.SparseCategoricalAccuracy(name=\"accuracy\"),\n",
    "            keras.metrics.SparseTopKCategoricalAccuracy(5, name=\"top-5-accuracy\"),\n",
    "        ],\n",
    "    )\n",
    "\n",
    "    history = model.fit(\n",
    "        x=x_train,\n",
    "        y=y_train,\n",
    "        batch_size=BATCH_SIZE,\n",
    "        epochs=EPOCHS,\n",
    "        validation_split=0.1,\n",
    "    )\n",
    "    _, accuracy, top_5_accuracy = model.evaluate(x_test, y_test, batch_size=BATCH_SIZE)\n",
    "    print(f\"Test accuracy: {round(accuracy * 100, 2)}%\")\n",
    "    print(f\"Test top 5 accuracy: {round(top_5_accuracy * 100, 2)}%\")\n",
    "\n",
    "    return history"
   ]
  },
  {
   "cell_type": "code",
   "execution_count": 18,
   "metadata": {},
   "outputs": [
    {
     "name": "stdout",
     "output_type": "stream",
     "text": [
      "Epoch 1/50\n",
      "2042/2042 [==============================] - 239s 112ms/step - loss: 1.9745 - accuracy: 0.4562 - top-5-accuracy: 0.7725 - val_loss: 0.6602 - val_accuracy: 0.7812 - val_top-5-accuracy: 0.9760\n",
      "Epoch 2/50\n",
      "2042/2042 [==============================] - 228s 112ms/step - loss: 0.7682 - accuracy: 0.7563 - top-5-accuracy: 0.9636 - val_loss: 0.3270 - val_accuracy: 0.8851 - val_top-5-accuracy: 0.9909\n",
      "Epoch 3/50\n",
      "2042/2042 [==============================] - 228s 112ms/step - loss: 0.5121 - accuracy: 0.8373 - top-5-accuracy: 0.9829 - val_loss: 0.1869 - val_accuracy: 0.9325 - val_top-5-accuracy: 0.9961\n",
      "Epoch 4/50\n",
      "2042/2042 [==============================] - 228s 112ms/step - loss: 0.4011 - accuracy: 0.8747 - top-5-accuracy: 0.9883 - val_loss: 0.1303 - val_accuracy: 0.9573 - val_top-5-accuracy: 0.9967\n",
      "Epoch 5/50\n",
      "2042/2042 [==============================] - 228s 111ms/step - loss: 0.3457 - accuracy: 0.8935 - top-5-accuracy: 0.9914 - val_loss: 0.1158 - val_accuracy: 0.9631 - val_top-5-accuracy: 0.9975\n",
      "Epoch 6/50\n",
      "2042/2042 [==============================] - 227s 111ms/step - loss: 0.3060 - accuracy: 0.9060 - top-5-accuracy: 0.9926 - val_loss: 0.1464 - val_accuracy: 0.9518 - val_top-5-accuracy: 0.9986\n",
      "Epoch 7/50\n",
      "2042/2042 [==============================] - 228s 111ms/step - loss: 0.2846 - accuracy: 0.9107 - top-5-accuracy: 0.9927 - val_loss: 0.1030 - val_accuracy: 0.9661 - val_top-5-accuracy: 0.9981\n",
      "Epoch 8/50\n",
      "2042/2042 [==============================] - 227s 111ms/step - loss: 0.2774 - accuracy: 0.9157 - top-5-accuracy: 0.9930 - val_loss: 0.1223 - val_accuracy: 0.9592 - val_top-5-accuracy: 0.9981\n",
      "Epoch 9/50\n",
      "2042/2042 [==============================] - 228s 112ms/step - loss: 0.2516 - accuracy: 0.9211 - top-5-accuracy: 0.9945 - val_loss: 0.0847 - val_accuracy: 0.9724 - val_top-5-accuracy: 0.9978\n",
      "Epoch 10/50\n",
      "2042/2042 [==============================] - 234s 115ms/step - loss: 0.2642 - accuracy: 0.9197 - top-5-accuracy: 0.9937 - val_loss: 0.0901 - val_accuracy: 0.9694 - val_top-5-accuracy: 0.9981\n",
      "Epoch 11/50\n",
      "2042/2042 [==============================] - 232s 114ms/step - loss: 0.2692 - accuracy: 0.9208 - top-5-accuracy: 0.9930 - val_loss: 0.0962 - val_accuracy: 0.9691 - val_top-5-accuracy: 0.9981\n",
      "Epoch 12/50\n",
      "2042/2042 [==============================] - 228s 112ms/step - loss: 0.2320 - accuracy: 0.9287 - top-5-accuracy: 0.9944 - val_loss: 0.0898 - val_accuracy: 0.9691 - val_top-5-accuracy: 0.9975\n",
      "Epoch 13/50\n",
      "2042/2042 [==============================] - 227s 111ms/step - loss: 0.2376 - accuracy: 0.9287 - top-5-accuracy: 0.9953 - val_loss: 0.0875 - val_accuracy: 0.9691 - val_top-5-accuracy: 0.9992\n",
      "Epoch 14/50\n",
      "2042/2042 [==============================] - 228s 111ms/step - loss: 0.2445 - accuracy: 0.9261 - top-5-accuracy: 0.9946 - val_loss: 0.0927 - val_accuracy: 0.9716 - val_top-5-accuracy: 0.9978\n",
      "Epoch 15/50\n",
      "2042/2042 [==============================] - 227s 111ms/step - loss: 0.2347 - accuracy: 0.9290 - top-5-accuracy: 0.9947 - val_loss: 0.0855 - val_accuracy: 0.9716 - val_top-5-accuracy: 0.9983\n",
      "Epoch 16/50\n",
      "2042/2042 [==============================] - 228s 112ms/step - loss: 0.2275 - accuracy: 0.9297 - top-5-accuracy: 0.9952 - val_loss: 0.0645 - val_accuracy: 0.9777 - val_top-5-accuracy: 0.9992\n",
      "Epoch 17/50\n",
      "2042/2042 [==============================] - 225s 110ms/step - loss: 0.2339 - accuracy: 0.9290 - top-5-accuracy: 0.9949 - val_loss: 0.1044 - val_accuracy: 0.9645 - val_top-5-accuracy: 0.9989\n",
      "Epoch 18/50\n",
      "2042/2042 [==============================] - 225s 110ms/step - loss: 0.2367 - accuracy: 0.9304 - top-5-accuracy: 0.9941 - val_loss: 0.0928 - val_accuracy: 0.9669 - val_top-5-accuracy: 0.9986\n",
      "Epoch 19/50\n",
      "2042/2042 [==============================] - 225s 110ms/step - loss: 0.2255 - accuracy: 0.9327 - top-5-accuracy: 0.9951 - val_loss: 0.0677 - val_accuracy: 0.9769 - val_top-5-accuracy: 0.9989\n",
      "Epoch 20/50\n",
      "2042/2042 [==============================] - 225s 110ms/step - loss: 0.2228 - accuracy: 0.9310 - top-5-accuracy: 0.9961 - val_loss: 0.0948 - val_accuracy: 0.9686 - val_top-5-accuracy: 0.9986\n",
      "Epoch 21/50\n",
      "2042/2042 [==============================] - 225s 110ms/step - loss: 0.2366 - accuracy: 0.9287 - top-5-accuracy: 0.9942 - val_loss: 0.0937 - val_accuracy: 0.9719 - val_top-5-accuracy: 0.9981\n",
      "Epoch 22/50\n",
      "2042/2042 [==============================] - 225s 110ms/step - loss: 0.2072 - accuracy: 0.9371 - top-5-accuracy: 0.9962 - val_loss: 0.0874 - val_accuracy: 0.9749 - val_top-5-accuracy: 0.9975\n",
      "Epoch 23/50\n",
      "2042/2042 [==============================] - 225s 110ms/step - loss: 0.2146 - accuracy: 0.9344 - top-5-accuracy: 0.9956 - val_loss: 0.0807 - val_accuracy: 0.9733 - val_top-5-accuracy: 0.9986\n",
      "Epoch 24/50\n",
      "2042/2042 [==============================] - 225s 110ms/step - loss: 0.2188 - accuracy: 0.9345 - top-5-accuracy: 0.9957 - val_loss: 0.0872 - val_accuracy: 0.9744 - val_top-5-accuracy: 0.9992\n",
      "Epoch 25/50\n",
      "2042/2042 [==============================] - 225s 110ms/step - loss: 0.2128 - accuracy: 0.9356 - top-5-accuracy: 0.9951 - val_loss: 0.0846 - val_accuracy: 0.9741 - val_top-5-accuracy: 0.9997\n",
      "Epoch 26/50\n",
      "2042/2042 [==============================] - 225s 110ms/step - loss: 0.2196 - accuracy: 0.9334 - top-5-accuracy: 0.9952 - val_loss: 0.0985 - val_accuracy: 0.9680 - val_top-5-accuracy: 0.9989\n",
      "Epoch 27/50\n",
      "2042/2042 [==============================] - 225s 110ms/step - loss: 0.2145 - accuracy: 0.9349 - top-5-accuracy: 0.9959 - val_loss: 0.0848 - val_accuracy: 0.9722 - val_top-5-accuracy: 0.9983\n",
      "Epoch 28/50\n",
      "2042/2042 [==============================] - 226s 111ms/step - loss: 0.2135 - accuracy: 0.9378 - top-5-accuracy: 0.9946 - val_loss: 0.0744 - val_accuracy: 0.9774 - val_top-5-accuracy: 0.9986\n",
      "Epoch 29/50\n",
      "2042/2042 [==============================] - 228s 112ms/step - loss: 0.2158 - accuracy: 0.9348 - top-5-accuracy: 0.9958 - val_loss: 0.0789 - val_accuracy: 0.9788 - val_top-5-accuracy: 0.9989\n",
      "Epoch 30/50\n",
      "2042/2042 [==============================] - 228s 112ms/step - loss: 0.2188 - accuracy: 0.9336 - top-5-accuracy: 0.9947 - val_loss: 0.0934 - val_accuracy: 0.9689 - val_top-5-accuracy: 0.9983\n",
      "Epoch 31/50\n",
      "2042/2042 [==============================] - 225s 110ms/step - loss: 0.2095 - accuracy: 0.9375 - top-5-accuracy: 0.9957 - val_loss: 0.0613 - val_accuracy: 0.9802 - val_top-5-accuracy: 0.9986\n",
      "Epoch 32/50\n",
      "2042/2042 [==============================] - 225s 110ms/step - loss: 0.2203 - accuracy: 0.9348 - top-5-accuracy: 0.9950 - val_loss: 0.1043 - val_accuracy: 0.9631 - val_top-5-accuracy: 0.9992\n",
      "Epoch 33/50\n",
      "2042/2042 [==============================] - 225s 110ms/step - loss: 0.2139 - accuracy: 0.9377 - top-5-accuracy: 0.9953 - val_loss: 0.0579 - val_accuracy: 0.9802 - val_top-5-accuracy: 0.9989\n",
      "Epoch 34/50\n",
      "2042/2042 [==============================] - 225s 110ms/step - loss: 0.2132 - accuracy: 0.9364 - top-5-accuracy: 0.9956 - val_loss: 0.0607 - val_accuracy: 0.9818 - val_top-5-accuracy: 0.9986\n",
      "Epoch 35/50\n",
      "2042/2042 [==============================] - 225s 110ms/step - loss: 0.2040 - accuracy: 0.9393 - top-5-accuracy: 0.9953 - val_loss: 0.0599 - val_accuracy: 0.9837 - val_top-5-accuracy: 0.9986\n",
      "Epoch 36/50\n",
      "2042/2042 [==============================] - 224s 110ms/step - loss: 0.2125 - accuracy: 0.9357 - top-5-accuracy: 0.9952 - val_loss: 0.0664 - val_accuracy: 0.9824 - val_top-5-accuracy: 0.9983\n",
      "Epoch 37/50\n",
      "2042/2042 [==============================] - 224s 110ms/step - loss: 0.2089 - accuracy: 0.9378 - top-5-accuracy: 0.9950 - val_loss: 0.0672 - val_accuracy: 0.9771 - val_top-5-accuracy: 0.9989\n",
      "Epoch 38/50\n",
      "2042/2042 [==============================] - 224s 110ms/step - loss: 0.2099 - accuracy: 0.9359 - top-5-accuracy: 0.9957 - val_loss: 0.0767 - val_accuracy: 0.9724 - val_top-5-accuracy: 0.9997\n",
      "Epoch 39/50\n",
      "2042/2042 [==============================] - 224s 110ms/step - loss: 0.2054 - accuracy: 0.9386 - top-5-accuracy: 0.9950 - val_loss: 0.0851 - val_accuracy: 0.9730 - val_top-5-accuracy: 0.9992\n",
      "Epoch 40/50\n",
      "2042/2042 [==============================] - 224s 110ms/step - loss: 0.2103 - accuracy: 0.9361 - top-5-accuracy: 0.9958 - val_loss: 0.0499 - val_accuracy: 0.9843 - val_top-5-accuracy: 0.9989\n",
      "Epoch 41/50\n"
     ]
    },
    {
     "name": "stdout",
     "output_type": "stream",
     "text": [
      "2042/2042 [==============================] - 224s 110ms/step - loss: 0.2123 - accuracy: 0.9364 - top-5-accuracy: 0.9957 - val_loss: 0.0706 - val_accuracy: 0.9758 - val_top-5-accuracy: 0.9989\n",
      "Epoch 42/50\n",
      "2042/2042 [==============================] - 224s 110ms/step - loss: 0.1987 - accuracy: 0.9407 - top-5-accuracy: 0.9960 - val_loss: 0.0877 - val_accuracy: 0.9694 - val_top-5-accuracy: 0.9989\n",
      "Epoch 43/50\n",
      "2042/2042 [==============================] - 224s 110ms/step - loss: 0.2156 - accuracy: 0.9356 - top-5-accuracy: 0.9953 - val_loss: 0.0579 - val_accuracy: 0.9810 - val_top-5-accuracy: 0.9992\n",
      "Epoch 44/50\n",
      "2042/2042 [==============================] - 224s 110ms/step - loss: 0.2056 - accuracy: 0.9381 - top-5-accuracy: 0.9959 - val_loss: 0.0590 - val_accuracy: 0.9780 - val_top-5-accuracy: 0.9994\n",
      "Epoch 45/50\n",
      "2042/2042 [==============================] - 224s 110ms/step - loss: 0.1936 - accuracy: 0.9415 - top-5-accuracy: 0.9963 - val_loss: 0.0568 - val_accuracy: 0.9851 - val_top-5-accuracy: 0.9992\n",
      "Epoch 46/50\n",
      "2042/2042 [==============================] - 224s 110ms/step - loss: 0.2029 - accuracy: 0.9386 - top-5-accuracy: 0.9957 - val_loss: 0.0651 - val_accuracy: 0.9793 - val_top-5-accuracy: 0.9986\n",
      "Epoch 47/50\n",
      "2042/2042 [==============================] - 225s 110ms/step - loss: 0.2096 - accuracy: 0.9371 - top-5-accuracy: 0.9951 - val_loss: 0.0645 - val_accuracy: 0.9785 - val_top-5-accuracy: 0.9989\n",
      "Epoch 48/50\n",
      "2042/2042 [==============================] - 224s 110ms/step - loss: 0.2007 - accuracy: 0.9391 - top-5-accuracy: 0.9962 - val_loss: 0.0898 - val_accuracy: 0.9716 - val_top-5-accuracy: 0.9983\n",
      "Epoch 49/50\n",
      "2042/2042 [==============================] - 224s 110ms/step - loss: 0.2069 - accuracy: 0.9361 - top-5-accuracy: 0.9955 - val_loss: 0.0936 - val_accuracy: 0.9691 - val_top-5-accuracy: 0.9986\n",
      "Epoch 50/50\n",
      "2042/2042 [==============================] - 224s 110ms/step - loss: 0.2108 - accuracy: 0.9357 - top-5-accuracy: 0.9956 - val_loss: 0.0751 - val_accuracy: 0.9760 - val_top-5-accuracy: 0.9983\n",
      "195/195 [==============================] - 7s 34ms/step - loss: 0.0666 - accuracy: 0.9791 - top-5-accuracy: 0.9984\n",
      "Test accuracy: 97.91%\n",
      "Test top 5 accuracy: 99.84%\n"
     ]
    }
   ],
   "source": [
    "# Run experiments with the vanilla ViT\n",
    "vit = create_vit_classifier(vanilla=True)\n",
    "history = run_experiment(vit)"
   ]
  },
  {
   "cell_type": "code",
   "execution_count": 19,
   "metadata": {},
   "outputs": [
    {
     "name": "stdout",
     "output_type": "stream",
     "text": [
      "Epoch 1/50\n",
      "2042/2042 [==============================] - 250s 117ms/step - loss: 1.4083 - accuracy: 0.6236 - top-5-accuracy: 0.8829 - val_loss: 0.3523 - val_accuracy: 0.8878 - val_top-5-accuracy: 0.9915\n",
      "Epoch 2/50\n",
      "2042/2042 [==============================] - 238s 117ms/step - loss: 0.5716 - accuracy: 0.8191 - top-5-accuracy: 0.9782 - val_loss: 0.2834 - val_accuracy: 0.9110 - val_top-5-accuracy: 0.9950\n",
      "Epoch 3/50\n",
      "2042/2042 [==============================] - 238s 117ms/step - loss: 0.4254 - accuracy: 0.8666 - top-5-accuracy: 0.9876 - val_loss: 0.1230 - val_accuracy: 0.9587 - val_top-5-accuracy: 0.9986\n",
      "Epoch 4/50\n",
      "2042/2042 [==============================] - 238s 117ms/step - loss: 0.3106 - accuracy: 0.9054 - top-5-accuracy: 0.9926 - val_loss: 0.1232 - val_accuracy: 0.9614 - val_top-5-accuracy: 0.9981\n",
      "Epoch 5/50\n",
      "2042/2042 [==============================] - 238s 117ms/step - loss: 0.2796 - accuracy: 0.9151 - top-5-accuracy: 0.9937 - val_loss: 0.1256 - val_accuracy: 0.9587 - val_top-5-accuracy: 0.9986\n",
      "Epoch 6/50\n",
      "2042/2042 [==============================] - 238s 117ms/step - loss: 0.2451 - accuracy: 0.9248 - top-5-accuracy: 0.9945 - val_loss: 0.1227 - val_accuracy: 0.9609 - val_top-5-accuracy: 0.9972\n",
      "Epoch 7/50\n",
      "2042/2042 [==============================] - 238s 117ms/step - loss: 0.2328 - accuracy: 0.9296 - top-5-accuracy: 0.9949 - val_loss: 0.0865 - val_accuracy: 0.9702 - val_top-5-accuracy: 0.9986\n",
      "Epoch 8/50\n",
      "2042/2042 [==============================] - 239s 117ms/step - loss: 0.2179 - accuracy: 0.9348 - top-5-accuracy: 0.9958 - val_loss: 0.0869 - val_accuracy: 0.9719 - val_top-5-accuracy: 0.9992\n",
      "Epoch 9/50\n",
      "2042/2042 [==============================] - 239s 117ms/step - loss: 0.2083 - accuracy: 0.9381 - top-5-accuracy: 0.9952 - val_loss: 0.0791 - val_accuracy: 0.9724 - val_top-5-accuracy: 0.9992\n",
      "Epoch 10/50\n",
      "2042/2042 [==============================] - 238s 117ms/step - loss: 0.1966 - accuracy: 0.9410 - top-5-accuracy: 0.9964 - val_loss: 0.0753 - val_accuracy: 0.9746 - val_top-5-accuracy: 0.9986\n",
      "Epoch 11/50\n",
      "2042/2042 [==============================] - 239s 117ms/step - loss: 0.2032 - accuracy: 0.9407 - top-5-accuracy: 0.9956 - val_loss: 0.0689 - val_accuracy: 0.9796 - val_top-5-accuracy: 0.9992\n",
      "Epoch 12/50\n",
      "2042/2042 [==============================] - 238s 117ms/step - loss: 0.1977 - accuracy: 0.9414 - top-5-accuracy: 0.9957 - val_loss: 0.0876 - val_accuracy: 0.9758 - val_top-5-accuracy: 0.9986\n",
      "Epoch 13/50\n",
      "2042/2042 [==============================] - 239s 117ms/step - loss: 0.1900 - accuracy: 0.9431 - top-5-accuracy: 0.9965 - val_loss: 0.1061 - val_accuracy: 0.9658 - val_top-5-accuracy: 0.9983\n",
      "Epoch 14/50\n",
      "2042/2042 [==============================] - 239s 117ms/step - loss: 0.1912 - accuracy: 0.9431 - top-5-accuracy: 0.9962 - val_loss: 0.0507 - val_accuracy: 0.9832 - val_top-5-accuracy: 0.9997\n",
      "Epoch 15/50\n",
      "2042/2042 [==============================] - 239s 117ms/step - loss: 0.1805 - accuracy: 0.9471 - top-5-accuracy: 0.9963 - val_loss: 0.0954 - val_accuracy: 0.9647 - val_top-5-accuracy: 0.9992\n",
      "Epoch 16/50\n",
      "2042/2042 [==============================] - 239s 117ms/step - loss: 0.1889 - accuracy: 0.9435 - top-5-accuracy: 0.9964 - val_loss: 0.0746 - val_accuracy: 0.9777 - val_top-5-accuracy: 0.9989\n",
      "Epoch 17/50\n",
      "2042/2042 [==============================] - 239s 117ms/step - loss: 0.1823 - accuracy: 0.9461 - top-5-accuracy: 0.9968 - val_loss: 0.0887 - val_accuracy: 0.9700 - val_top-5-accuracy: 0.9994\n",
      "Epoch 18/50\n",
      "2042/2042 [==============================] - 239s 117ms/step - loss: 0.1862 - accuracy: 0.9453 - top-5-accuracy: 0.9961 - val_loss: 0.0710 - val_accuracy: 0.9785 - val_top-5-accuracy: 0.9983\n",
      "Epoch 19/50\n",
      "2042/2042 [==============================] - 239s 117ms/step - loss: 0.1786 - accuracy: 0.9481 - top-5-accuracy: 0.9966 - val_loss: 0.0496 - val_accuracy: 0.9848 - val_top-5-accuracy: 0.9983\n",
      "Epoch 20/50\n",
      "2042/2042 [==============================] - 239s 117ms/step - loss: 0.1834 - accuracy: 0.9455 - top-5-accuracy: 0.9964 - val_loss: 0.0637 - val_accuracy: 0.9813 - val_top-5-accuracy: 0.9981\n",
      "Epoch 21/50\n",
      "2042/2042 [==============================] - 239s 117ms/step - loss: 0.1771 - accuracy: 0.9460 - top-5-accuracy: 0.9967 - val_loss: 0.0622 - val_accuracy: 0.9807 - val_top-5-accuracy: 0.9986\n",
      "Epoch 22/50\n",
      "2042/2042 [==============================] - 239s 117ms/step - loss: 0.1759 - accuracy: 0.9493 - top-5-accuracy: 0.9961 - val_loss: 0.0642 - val_accuracy: 0.9796 - val_top-5-accuracy: 0.9983\n",
      "Epoch 23/50\n",
      "2042/2042 [==============================] - 239s 117ms/step - loss: 0.1753 - accuracy: 0.9487 - top-5-accuracy: 0.9969 - val_loss: 0.0828 - val_accuracy: 0.9810 - val_top-5-accuracy: 0.9989\n",
      "Epoch 24/50\n",
      "2042/2042 [==============================] - 239s 117ms/step - loss: 0.1717 - accuracy: 0.9489 - top-5-accuracy: 0.9969 - val_loss: 0.0793 - val_accuracy: 0.9774 - val_top-5-accuracy: 0.9986\n",
      "Epoch 25/50\n",
      "2042/2042 [==============================] - 239s 117ms/step - loss: 0.1729 - accuracy: 0.9493 - top-5-accuracy: 0.9968 - val_loss: 0.0462 - val_accuracy: 0.9835 - val_top-5-accuracy: 0.9986\n",
      "Epoch 26/50\n",
      "2042/2042 [==============================] - 239s 117ms/step - loss: 0.1767 - accuracy: 0.9469 - top-5-accuracy: 0.9969 - val_loss: 0.0737 - val_accuracy: 0.9791 - val_top-5-accuracy: 0.9983\n",
      "Epoch 27/50\n",
      "2042/2042 [==============================] - 238s 117ms/step - loss: 0.1680 - accuracy: 0.9505 - top-5-accuracy: 0.9974 - val_loss: 0.0452 - val_accuracy: 0.9846 - val_top-5-accuracy: 0.9983\n",
      "Epoch 28/50\n",
      "2042/2042 [==============================] - 239s 117ms/step - loss: 0.1664 - accuracy: 0.9522 - top-5-accuracy: 0.9968 - val_loss: 0.0607 - val_accuracy: 0.9815 - val_top-5-accuracy: 0.9983\n",
      "Epoch 29/50\n",
      "2042/2042 [==============================] - 239s 117ms/step - loss: 0.1726 - accuracy: 0.9497 - top-5-accuracy: 0.9968 - val_loss: 0.0565 - val_accuracy: 0.9810 - val_top-5-accuracy: 0.9989\n",
      "Epoch 30/50\n",
      "2042/2042 [==============================] - 239s 117ms/step - loss: 0.1677 - accuracy: 0.9504 - top-5-accuracy: 0.9968 - val_loss: 0.0895 - val_accuracy: 0.9650 - val_top-5-accuracy: 0.9986\n",
      "Epoch 31/50\n",
      "2042/2042 [==============================] - 239s 117ms/step - loss: 0.1640 - accuracy: 0.9509 - top-5-accuracy: 0.9969 - val_loss: 0.0607 - val_accuracy: 0.9771 - val_top-5-accuracy: 0.9989\n",
      "Epoch 32/50\n",
      "2042/2042 [==============================] - 239s 117ms/step - loss: 0.1635 - accuracy: 0.9512 - top-5-accuracy: 0.9970 - val_loss: 0.0785 - val_accuracy: 0.9738 - val_top-5-accuracy: 0.9986\n",
      "Epoch 33/50\n",
      "2042/2042 [==============================] - 239s 117ms/step - loss: 0.1681 - accuracy: 0.9508 - top-5-accuracy: 0.9972 - val_loss: 0.0612 - val_accuracy: 0.9832 - val_top-5-accuracy: 0.9989\n",
      "Epoch 34/50\n",
      "2042/2042 [==============================] - 239s 117ms/step - loss: 0.1652 - accuracy: 0.9514 - top-5-accuracy: 0.9970 - val_loss: 0.0624 - val_accuracy: 0.9810 - val_top-5-accuracy: 0.9986\n",
      "Epoch 35/50\n",
      "2042/2042 [==============================] - 239s 117ms/step - loss: 0.1704 - accuracy: 0.9497 - top-5-accuracy: 0.9970 - val_loss: 0.0517 - val_accuracy: 0.9802 - val_top-5-accuracy: 0.9989\n",
      "Epoch 36/50\n",
      "2042/2042 [==============================] - 238s 116ms/step - loss: 0.1665 - accuracy: 0.9500 - top-5-accuracy: 0.9968 - val_loss: 0.0634 - val_accuracy: 0.9799 - val_top-5-accuracy: 0.9989\n",
      "Epoch 37/50\n",
      "2042/2042 [==============================] - 238s 116ms/step - loss: 0.1618 - accuracy: 0.9508 - top-5-accuracy: 0.9972 - val_loss: 0.0824 - val_accuracy: 0.9730 - val_top-5-accuracy: 0.9978\n",
      "Epoch 38/50\n",
      "2042/2042 [==============================] - 238s 117ms/step - loss: 0.1610 - accuracy: 0.9521 - top-5-accuracy: 0.9967 - val_loss: 0.0965 - val_accuracy: 0.9683 - val_top-5-accuracy: 0.9983\n",
      "Epoch 39/50\n",
      "2042/2042 [==============================] - 238s 116ms/step - loss: 0.1639 - accuracy: 0.9521 - top-5-accuracy: 0.9971 - val_loss: 0.0661 - val_accuracy: 0.9799 - val_top-5-accuracy: 0.9989\n",
      "Epoch 40/50\n",
      "2042/2042 [==============================] - 238s 116ms/step - loss: 0.1632 - accuracy: 0.9517 - top-5-accuracy: 0.9973 - val_loss: 0.0554 - val_accuracy: 0.9804 - val_top-5-accuracy: 0.9989\n",
      "Epoch 41/50\n"
     ]
    },
    {
     "name": "stdout",
     "output_type": "stream",
     "text": [
      "2042/2042 [==============================] - 238s 117ms/step - loss: 0.1545 - accuracy: 0.9550 - top-5-accuracy: 0.9969 - val_loss: 0.0735 - val_accuracy: 0.9799 - val_top-5-accuracy: 0.9989\n",
      "Epoch 42/50\n",
      "2042/2042 [==============================] - 238s 116ms/step - loss: 0.1677 - accuracy: 0.9515 - top-5-accuracy: 0.9968 - val_loss: 0.0452 - val_accuracy: 0.9851 - val_top-5-accuracy: 0.9994\n",
      "Epoch 43/50\n",
      "2042/2042 [==============================] - 238s 117ms/step - loss: 0.1595 - accuracy: 0.9539 - top-5-accuracy: 0.9965 - val_loss: 0.0787 - val_accuracy: 0.9741 - val_top-5-accuracy: 0.9983\n",
      "Epoch 44/50\n",
      "2042/2042 [==============================] - 238s 116ms/step - loss: 0.1628 - accuracy: 0.9520 - top-5-accuracy: 0.9971 - val_loss: 0.0760 - val_accuracy: 0.9782 - val_top-5-accuracy: 0.9986\n",
      "Epoch 45/50\n",
      "2042/2042 [==============================] - 238s 116ms/step - loss: 0.1656 - accuracy: 0.9511 - top-5-accuracy: 0.9974 - val_loss: 0.0752 - val_accuracy: 0.9722 - val_top-5-accuracy: 0.9983\n",
      "Epoch 46/50\n",
      "2042/2042 [==============================] - 238s 116ms/step - loss: 0.1650 - accuracy: 0.9507 - top-5-accuracy: 0.9972 - val_loss: 0.0568 - val_accuracy: 0.9810 - val_top-5-accuracy: 0.9983\n",
      "Epoch 47/50\n",
      "2042/2042 [==============================] - 238s 116ms/step - loss: 0.1583 - accuracy: 0.9533 - top-5-accuracy: 0.9973 - val_loss: 0.0538 - val_accuracy: 0.9829 - val_top-5-accuracy: 0.9983\n",
      "Epoch 48/50\n",
      "2042/2042 [==============================] - 238s 116ms/step - loss: 0.1581 - accuracy: 0.9527 - top-5-accuracy: 0.9968 - val_loss: 0.0518 - val_accuracy: 0.9804 - val_top-5-accuracy: 0.9997\n",
      "Epoch 49/50\n",
      "2042/2042 [==============================] - 238s 116ms/step - loss: 0.1614 - accuracy: 0.9513 - top-5-accuracy: 0.9970 - val_loss: 0.0573 - val_accuracy: 0.9782 - val_top-5-accuracy: 0.9992\n",
      "Epoch 50/50\n",
      "2042/2042 [==============================] - 238s 117ms/step - loss: 0.1579 - accuracy: 0.9532 - top-5-accuracy: 0.9974 - val_loss: 0.0397 - val_accuracy: 0.9873 - val_top-5-accuracy: 0.9989\n",
      "195/195 [==============================] - 7s 37ms/step - loss: 0.0335 - accuracy: 0.9878 - top-5-accuracy: 0.9997\n",
      "Test accuracy: 98.78%\n",
      "Test top 5 accuracy: 99.97%\n"
     ]
    }
   ],
   "source": [
    "# Run experiments with the Shifted Patch Tokenization and Locality Self Attention modified ViT\n",
    "vit_sl = create_vit_classifier(vanilla=False)\n",
    "history = run_experiment(vit_sl)"
   ]
  },
  {
   "cell_type": "markdown",
   "metadata": {
    "id": "v9J2omGo34Hz"
   },
   "source": [
    "*TODO: omówienie (100 słów)*"
   ]
  },
  {
   "cell_type": "markdown",
   "metadata": {},
   "source": [
    "omówienie will be here..."
   ]
  },
  {
   "cell_type": "code",
   "execution_count": null,
   "metadata": {},
   "outputs": [],
   "source": []
  }
 ],
 "metadata": {
  "accelerator": "GPU",
  "colab": {
   "provenance": [],
   "toc_visible": true
  },
  "kernelspec": {
   "display_name": "Python 3",
   "language": "python",
   "name": "python3"
  },
  "language_info": {
   "codemirror_mode": {
    "name": "ipython",
    "version": 3
   },
   "file_extension": ".py",
   "mimetype": "text/x-python",
   "name": "python",
   "nbconvert_exporter": "python",
   "pygments_lexer": "ipython3",
   "version": "3.8.10"
  }
 },
 "nbformat": 4,
 "nbformat_minor": 4
}
